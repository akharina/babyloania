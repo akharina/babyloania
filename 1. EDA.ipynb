{
 "cells": [
  {
   "cell_type": "markdown",
   "metadata": {},
   "source": [
    "# Babyloania Transaction Data "
   ]
  },
  {
   "cell_type": "code",
   "execution_count": 1,
   "metadata": {
    "ExecuteTime": {
     "end_time": "2020-04-05T18:50:25.883662Z",
     "start_time": "2020-04-05T18:50:24.494358Z"
    }
   },
   "outputs": [],
   "source": [
    "import os\n",
    "import pandas as pd\n",
    "import numpy as np\n",
    "import matplotlib.pyplot as plt\n",
    "import seaborn as sns\n",
    "\n",
    "\n",
    "%matplotlib inline"
   ]
  },
  {
   "cell_type": "code",
   "execution_count": 2,
   "metadata": {
    "ExecuteTime": {
     "end_time": "2020-03-25T16:55:43.542394Z",
     "start_time": "2020-03-25T16:55:42.386302Z"
    },
    "scrolled": true
   },
   "outputs": [],
   "source": [
    "raw_2017 = pd.read_excel(\"../data/pesanan_dibuat_1-Jan-2017_sampai_31-Dec-2017.xlsx\", parse_dates=['Tanggal Pesanan','Mulai Sewa','Selesai Sewa'])\n",
    "# converters={['Tanggal_Pesanan','Mulai_Sewa','Selesai_Sewa']: pd.to_datetime}\n",
    "data_2017 = raw_2017.drop(columns=['Nomor', 'Nama Pelanggan', 'Alamat Pelanggan (ulangi)','Telepon', 'Alamat Kirim', 'Email', 'Lunas',\n",
    "       'Total Biaya', 'Jumlah Dibayar', 'Catatan','Varian',\n",
    "       'Warna', 'Status'])\n",
    "data_2017 = data_2017.rename(lambda x: x.replace(' ', '_'), axis=1) #Removing spaces in column names\n",
    "data_2017 = data_2017.rename(columns={'Nomor(ulang)': 'Nomor',\n",
    "                                      'Nama_Pelanggan_(ulangi)': 'Nama_Pelanggan',\n",
    "                                      'Pemilik_Unit,_Skema_Bagi_Hasil': 'Pemilik_Unit', \n",
    "                                      'Unnamed:_23': 'Skema_Bagi_Hasil'})\n"
   ]
  },
  {
   "cell_type": "code",
   "execution_count": 3,
   "metadata": {
    "ExecuteTime": {
     "end_time": "2020-03-25T16:55:46.077303Z",
     "start_time": "2020-03-25T16:55:46.064842Z"
    }
   },
   "outputs": [
    {
     "name": "stdout",
     "output_type": "stream",
     "text": [
      "<class 'pandas.core.frame.DataFrame'>\n",
      "RangeIndex: 7642 entries, 0 to 7641\n",
      "Data columns (total 24 columns):\n",
      "Nomor                             3237 non-null object\n",
      "Nama Pelanggan                    3237 non-null object\n",
      "Telepon                           3237 non-null object\n",
      "Alamat Kirim                      3237 non-null object\n",
      "Email                             3232 non-null object\n",
      "Lunas                             3237 non-null object\n",
      "Total Biaya                       3237 non-null float64\n",
      "Jumlah Dibayar                    3237 non-null float64\n",
      "Catatan                           983 non-null object\n",
      "Tanggal Pesanan                   7630 non-null datetime64[ns]\n",
      "Nomor(ulang)                      7630 non-null object\n",
      "Komponen Biaya                    7630 non-null object\n",
      "Harga                             7630 non-null float64\n",
      "Kode Unit                         4063 non-null object\n",
      "Varian                            280 non-null object\n",
      "Warna                             2338 non-null object\n",
      "Mulai Sewa                        4063 non-null datetime64[ns]\n",
      "Selesai Sewa                      4063 non-null datetime64[ns]\n",
      "Durasi (hari)                     4063 non-null float64\n",
      "Status                            4063 non-null object\n",
      "Nama Pelanggan (ulangi)           4063 non-null object\n",
      "Alamat Pelanggan (ulangi)         4063 non-null object\n",
      "Pemilik Unit, Skema Bagi Hasil    4063 non-null object\n",
      "Unnamed: 23                       4027 non-null object\n",
      "dtypes: datetime64[ns](3), float64(4), object(17)\n",
      "memory usage: 1.4+ MB\n"
     ]
    }
   ],
   "source": [
    "raw_2017.info()"
   ]
  },
  {
   "cell_type": "code",
   "execution_count": 4,
   "metadata": {
    "ExecuteTime": {
     "end_time": "2020-03-25T16:55:55.061609Z",
     "start_time": "2020-03-25T16:55:51.176363Z"
    }
   },
   "outputs": [],
   "source": [
    "raw_2018 = pd.read_excel(\"../data/pesanan_dibuat_1-Jan-2018_sampai_31-Jan-2020.xlsx\", parse_dates=['Tanggal Pesanan','Mulai Sewa','Selesai Sewa'])\n",
    "data_2018 = raw_2018.drop(columns=['Nomor', 'Nama Pelanggan', 'Alamat Pelanggan (ulangi)','Telepon', 'Alamat Kirim', 'Email', 'Lunas',\n",
    "       'Total Biaya', 'Jumlah Dibayar', 'Catatan','Varian',\n",
    "       'Warna', 'Status'])\n",
    "data_2018 = data_2018.rename(lambda x: x.replace(' ', '_'), axis=1) #Removing spaces in column names\n",
    "data_2018 = data_2018.rename(columns={'Nomor(ulang)': 'Nomor',\n",
    "                                      'Nama_Pelanggan_(ulangi)': 'Nama_Pelanggan',\n",
    "                                      'Pemilik_Unit,_Skema_Bagi_Hasil': 'Pemilik_Unit', \n",
    "                                      'Unnamed:_23': 'Skema_Bagi_Hasil'})"
   ]
  },
  {
   "cell_type": "code",
   "execution_count": 256,
   "metadata": {
    "ExecuteTime": {
     "end_time": "2020-03-26T14:22:20.942100Z",
     "start_time": "2020-03-26T14:22:20.323771Z"
    },
    "scrolled": false
   },
   "outputs": [
    {
     "name": "stdout",
     "output_type": "stream",
     "text": [
      "Transaksi pertama: 2017-05-12 00:00:00\n",
      "Transaksi terakhir: 2020-01-24 00:00:00\n",
      "Jumlah transaksi: 14949\n",
      "Jumlah unit disewakan: 2134\n"
     ]
    }
   ],
   "source": [
    "#Combine data from 2 datasets\n",
    "data = pd.concat([data_2017,data_2018]).reset_index(drop=True)\n",
    "\n",
    "#Save combined data to csv\n",
    "data.to_csv('combined_data.csv', index=False)\n",
    "\n",
    "print(f\"Transaksi pertama: {min(data.Tanggal_Pesanan)}\")\n",
    "print(f\"Transaksi terakhir: {max(data.Tanggal_Pesanan)}\")\n",
    "print(f\"Jumlah transaksi: {len(data.Nomor.unique())}\")\n",
    "print(f\"Jumlah unit disewakan: {len(data.Kode_Unit.unique())}\")"
   ]
  },
  {
   "cell_type": "code",
   "execution_count": 2,
   "metadata": {
    "ExecuteTime": {
     "end_time": "2020-04-05T18:50:36.429885Z",
     "start_time": "2020-04-05T18:50:36.356171Z"
    }
   },
   "outputs": [],
   "source": [
    "# Rereading combined data from csv\n",
    "data = pd.read_csv('combined_data.csv')"
   ]
  },
  {
   "cell_type": "code",
   "execution_count": 3,
   "metadata": {
    "ExecuteTime": {
     "end_time": "2020-04-05T18:50:36.836633Z",
     "start_time": "2020-04-05T18:50:36.819839Z"
    },
    "scrolled": true
   },
   "outputs": [
    {
     "name": "stdout",
     "output_type": "stream",
     "text": [
      "<class 'pandas.core.frame.DataFrame'>\n",
      "RangeIndex: 34855 entries, 0 to 34854\n",
      "Data columns (total 11 columns):\n",
      "Tanggal_Pesanan     34822 non-null object\n",
      "Nomor               34822 non-null object\n",
      "Komponen_Biaya      34822 non-null object\n",
      "Harga               34822 non-null float64\n",
      "Kode_Unit           18062 non-null object\n",
      "Mulai_Sewa          18062 non-null object\n",
      "Selesai_Sewa        18062 non-null object\n",
      "Durasi_(hari)       18062 non-null float64\n",
      "Nama_Pelanggan      18062 non-null object\n",
      "Pemilik_Unit        18058 non-null object\n",
      "Skema_Bagi_Hasil    18019 non-null object\n",
      "dtypes: float64(2), object(9)\n",
      "memory usage: 2.9+ MB\n"
     ]
    }
   ],
   "source": [
    "data.info()"
   ]
  },
  {
   "cell_type": "code",
   "execution_count": 5,
   "metadata": {
    "ExecuteTime": {
     "end_time": "2020-04-05T18:50:41.562130Z",
     "start_time": "2020-04-05T18:50:41.551702Z"
    }
   },
   "outputs": [],
   "source": [
    "data.dropna(subset=['Tanggal_Pesanan'], how='all', inplace=True)\n",
    "data['Sewa_per_hari'] = data['Harga']/data['Durasi_(hari)']"
   ]
  },
  {
   "cell_type": "code",
   "execution_count": 9,
   "metadata": {
    "ExecuteTime": {
     "end_time": "2020-04-05T18:50:48.476762Z",
     "start_time": "2020-04-05T18:50:48.418660Z"
    }
   },
   "outputs": [],
   "source": [
    "#Renaming Komponen_Biaya for Sewa Gift Card\n",
    "\n",
    "data.loc[data.Komponen_Biaya=='Sewa Giftcard dan Voucher - Giftcard','Komponen_Biaya'] = 'Giftcard dan Voucher - Giftcard'\n",
    "data.loc[data.Komponen_Biaya=='Sewa Voucher  - Giftcard 1 Tahun','Komponen_Biaya'] = 'Voucher  - Giftcard 1 Tahun'\n",
    "data.loc[data.Komponen_Biaya=='Sewa Babyloania - eGift Card', 'Komponen_Biaya'] = 'Babyloania - eGift Card'\n",
    "\n",
    "data.loc[data.Komponen_Biaya=='Sewa Cuci Stroller - Stroller dan Carseat'] = 'Cuci Stroller - Stroller dan Carseat'\n"
   ]
  },
  {
   "cell_type": "code",
   "execution_count": 10,
   "metadata": {
    "ExecuteTime": {
     "end_time": "2020-04-05T18:50:49.364865Z",
     "start_time": "2020-04-05T18:50:49.171121Z"
    }
   },
   "outputs": [
    {
     "data": {
      "text/html": [
       "<div>\n",
       "<style scoped>\n",
       "    .dataframe tbody tr th:only-of-type {\n",
       "        vertical-align: middle;\n",
       "    }\n",
       "\n",
       "    .dataframe tbody tr th {\n",
       "        vertical-align: top;\n",
       "    }\n",
       "\n",
       "    .dataframe thead th {\n",
       "        text-align: right;\n",
       "    }\n",
       "</style>\n",
       "<table border=\"1\" class=\"dataframe\">\n",
       "  <thead>\n",
       "    <tr style=\"text-align: right;\">\n",
       "      <th></th>\n",
       "      <th>Tanggal_Pesanan</th>\n",
       "      <th>Nomor</th>\n",
       "      <th>Komponen_Biaya</th>\n",
       "      <th>Harga</th>\n",
       "      <th>Kode_Unit</th>\n",
       "      <th>Mulai_Sewa</th>\n",
       "      <th>Selesai_Sewa</th>\n",
       "      <th>Durasi_(hari)</th>\n",
       "      <th>Nama_Pelanggan</th>\n",
       "      <th>Pemilik_Unit</th>\n",
       "      <th>Skema_Bagi_Hasil</th>\n",
       "      <th>Sewa_per_hari</th>\n",
       "      <th>Item_Group</th>\n",
       "    </tr>\n",
       "  </thead>\n",
       "  <tbody>\n",
       "    <tr>\n",
       "      <td>34835</td>\n",
       "      <td>2020-01-23</td>\n",
       "      <td>200123/20/BCK</td>\n",
       "      <td>Sewa Foldaway - Bumper Standard Mat</td>\n",
       "      <td>470000</td>\n",
       "      <td>FOLDAWAYBUMPERSTANDARD-HHD-2301</td>\n",
       "      <td>2020-01-28</td>\n",
       "      <td>2020-02-27</td>\n",
       "      <td>30</td>\n",
       "      <td>Adila Gani</td>\n",
       "      <td>HDII HDII</td>\n",
       "      <td>B: 65% * pendapatan</td>\n",
       "      <td>15666.7</td>\n",
       "      <td>Sewa</td>\n",
       "    </tr>\n",
       "    <tr>\n",
       "      <td>34836</td>\n",
       "      <td>2020-01-23</td>\n",
       "      <td>200123/20/BCK</td>\n",
       "      <td>delivery+pickup</td>\n",
       "      <td>99000</td>\n",
       "      <td>NaN</td>\n",
       "      <td>NaN</td>\n",
       "      <td>NaN</td>\n",
       "      <td>NaN</td>\n",
       "      <td>NaN</td>\n",
       "      <td>NaN</td>\n",
       "      <td>NaN</td>\n",
       "      <td>NaN</td>\n",
       "      <td>Ongkir</td>\n",
       "    </tr>\n",
       "    <tr>\n",
       "      <td>34837</td>\n",
       "      <td>2020-01-23</td>\n",
       "      <td>200123/21/QXH</td>\n",
       "      <td>Sewa Little Tikes - Cozy Coupe Push Car</td>\n",
       "      <td>148000</td>\n",
       "      <td>DWG1</td>\n",
       "      <td>2020-01-31</td>\n",
       "      <td>2020-03-01</td>\n",
       "      <td>30</td>\n",
       "      <td>Anissya Pramesti</td>\n",
       "      <td>Dwi Gracesantia</td>\n",
       "      <td>J: 45% * pendapatan</td>\n",
       "      <td>4933.33</td>\n",
       "      <td>Sewa</td>\n",
       "    </tr>\n",
       "    <tr>\n",
       "      <td>34838</td>\n",
       "      <td>2020-01-23</td>\n",
       "      <td>200123/21/QXH</td>\n",
       "      <td>delivery+pickup</td>\n",
       "      <td>99000</td>\n",
       "      <td>NaN</td>\n",
       "      <td>NaN</td>\n",
       "      <td>NaN</td>\n",
       "      <td>NaN</td>\n",
       "      <td>NaN</td>\n",
       "      <td>NaN</td>\n",
       "      <td>NaN</td>\n",
       "      <td>NaN</td>\n",
       "      <td>Ongkir</td>\n",
       "    </tr>\n",
       "    <tr>\n",
       "      <td>34839</td>\n",
       "      <td>2020-01-23</td>\n",
       "      <td>200123/23/SAX</td>\n",
       "      <td>Sewa Babyzen - Yoyo+ Ride Along Board</td>\n",
       "      <td>907000</td>\n",
       "      <td>BABYZENYOYO+BOARD-HHD-1937</td>\n",
       "      <td>2020-01-31</td>\n",
       "      <td>2020-03-01</td>\n",
       "      <td>30</td>\n",
       "      <td>Adisti Daniaputri</td>\n",
       "      <td>HDII HDII</td>\n",
       "      <td>B: 65% * pendapatan</td>\n",
       "      <td>30233.3</td>\n",
       "      <td>Sewa</td>\n",
       "    </tr>\n",
       "    <tr>\n",
       "      <td>34840</td>\n",
       "      <td>2020-01-23</td>\n",
       "      <td>200123/23/SAX</td>\n",
       "      <td>Sewa Chicco - Next2Me Dream</td>\n",
       "      <td>585000</td>\n",
       "      <td>CHICCONEXTDREAM-HHD-2240</td>\n",
       "      <td>2020-01-31</td>\n",
       "      <td>2020-03-01</td>\n",
       "      <td>30</td>\n",
       "      <td>Adisti Daniaputri</td>\n",
       "      <td>HDII HDII</td>\n",
       "      <td>B: 65% * pendapatan</td>\n",
       "      <td>19500</td>\n",
       "      <td>Sewa</td>\n",
       "    </tr>\n",
       "    <tr>\n",
       "      <td>34841</td>\n",
       "      <td>2020-01-23</td>\n",
       "      <td>200123/23/SAX</td>\n",
       "      <td>Sewa Rotho - Babydesign Top Bathtub with Newbo...</td>\n",
       "      <td>309000</td>\n",
       "      <td>HDII575</td>\n",
       "      <td>2020-01-31</td>\n",
       "      <td>2020-03-01</td>\n",
       "      <td>30</td>\n",
       "      <td>Adisti Daniaputri</td>\n",
       "      <td>HDII HDII</td>\n",
       "      <td>HDII: 55% * pendapatan</td>\n",
       "      <td>10300</td>\n",
       "      <td>Sewa</td>\n",
       "    </tr>\n",
       "    <tr>\n",
       "      <td>34842</td>\n",
       "      <td>2020-01-23</td>\n",
       "      <td>200123/23/SAX</td>\n",
       "      <td>Sewa Doona - The Next Generation Car Seat</td>\n",
       "      <td>619000</td>\n",
       "      <td>STS-10-19-0011</td>\n",
       "      <td>2020-01-31</td>\n",
       "      <td>2020-03-01</td>\n",
       "      <td>30</td>\n",
       "      <td>Adisti Daniaputri</td>\n",
       "      <td>HDII HDII</td>\n",
       "      <td>HDII: 55% * pendapatan</td>\n",
       "      <td>20633.3</td>\n",
       "      <td>Sewa</td>\n",
       "    </tr>\n",
       "    <tr>\n",
       "      <td>34843</td>\n",
       "      <td>2020-01-23</td>\n",
       "      <td>200123/23/SAX</td>\n",
       "      <td>FREESEWA BABY BATH</td>\n",
       "      <td>-309000</td>\n",
       "      <td>NaN</td>\n",
       "      <td>NaN</td>\n",
       "      <td>NaN</td>\n",
       "      <td>NaN</td>\n",
       "      <td>NaN</td>\n",
       "      <td>NaN</td>\n",
       "      <td>NaN</td>\n",
       "      <td>NaN</td>\n",
       "      <td>Discount</td>\n",
       "    </tr>\n",
       "    <tr>\n",
       "      <td>34844</td>\n",
       "      <td>2020-01-23</td>\n",
       "      <td>200123/23/SAX</td>\n",
       "      <td>biaya deliv + pickup</td>\n",
       "      <td>99000</td>\n",
       "      <td>NaN</td>\n",
       "      <td>NaN</td>\n",
       "      <td>NaN</td>\n",
       "      <td>NaN</td>\n",
       "      <td>NaN</td>\n",
       "      <td>NaN</td>\n",
       "      <td>NaN</td>\n",
       "      <td>NaN</td>\n",
       "      <td>Ongkir</td>\n",
       "    </tr>\n",
       "    <tr>\n",
       "      <td>34845</td>\n",
       "      <td>2020-01-23</td>\n",
       "      <td>200123/24/EZX</td>\n",
       "      <td>Sewa Nuna - Leaf</td>\n",
       "      <td>344000</td>\n",
       "      <td>SLM1</td>\n",
       "      <td>2020-01-28</td>\n",
       "      <td>2020-02-27</td>\n",
       "      <td>30</td>\n",
       "      <td>Fianindya Tunjung Sari</td>\n",
       "      <td>Santy Lasmana</td>\n",
       "      <td>F: 55% * pendapatan</td>\n",
       "      <td>11466.7</td>\n",
       "      <td>Sewa</td>\n",
       "    </tr>\n",
       "    <tr>\n",
       "      <td>34846</td>\n",
       "      <td>2020-01-23</td>\n",
       "      <td>200123/24/EZX</td>\n",
       "      <td>biaya deliv + pickup</td>\n",
       "      <td>99000</td>\n",
       "      <td>NaN</td>\n",
       "      <td>NaN</td>\n",
       "      <td>NaN</td>\n",
       "      <td>NaN</td>\n",
       "      <td>NaN</td>\n",
       "      <td>NaN</td>\n",
       "      <td>NaN</td>\n",
       "      <td>NaN</td>\n",
       "      <td>Ongkir</td>\n",
       "    </tr>\n",
       "    <tr>\n",
       "      <td>34847</td>\n",
       "      <td>2020-01-23</td>\n",
       "      <td>200123/25/OBA</td>\n",
       "      <td>Sewa Chicco - Next2Me Side Sleeping Crib</td>\n",
       "      <td>539000</td>\n",
       "      <td>HDII7</td>\n",
       "      <td>2020-03-05</td>\n",
       "      <td>2020-04-05</td>\n",
       "      <td>31</td>\n",
       "      <td>Veni Hendarsih</td>\n",
       "      <td>HDII HDII</td>\n",
       "      <td>B: 65% * pendapatan</td>\n",
       "      <td>17387.1</td>\n",
       "      <td>Sewa</td>\n",
       "    </tr>\n",
       "    <tr>\n",
       "      <td>34848</td>\n",
       "      <td>2020-01-23</td>\n",
       "      <td>200123/25/OBA</td>\n",
       "      <td>biaya deliv + pickup</td>\n",
       "      <td>99000</td>\n",
       "      <td>NaN</td>\n",
       "      <td>NaN</td>\n",
       "      <td>NaN</td>\n",
       "      <td>NaN</td>\n",
       "      <td>NaN</td>\n",
       "      <td>NaN</td>\n",
       "      <td>NaN</td>\n",
       "      <td>NaN</td>\n",
       "      <td>Ongkir</td>\n",
       "    </tr>\n",
       "    <tr>\n",
       "      <td>34849</td>\n",
       "      <td>2020-01-24</td>\n",
       "      <td>200124/1/DAF</td>\n",
       "      <td>Sewa Joie - Meet Tilt Car Seat</td>\n",
       "      <td>275000</td>\n",
       "      <td>JOIEMEET-FRIN-1903</td>\n",
       "      <td>2020-02-07</td>\n",
       "      <td>2020-02-14</td>\n",
       "      <td>7</td>\n",
       "      <td>Megani Winadewi</td>\n",
       "      <td>Fala Rininda</td>\n",
       "      <td>J: 45% * pendapatan</td>\n",
       "      <td>39285.7</td>\n",
       "      <td>Sewa</td>\n",
       "    </tr>\n",
       "    <tr>\n",
       "      <td>34850</td>\n",
       "      <td>2020-01-24</td>\n",
       "      <td>200124/1/DAF</td>\n",
       "      <td>biaya deliv + pickup</td>\n",
       "      <td>99000</td>\n",
       "      <td>NaN</td>\n",
       "      <td>NaN</td>\n",
       "      <td>NaN</td>\n",
       "      <td>NaN</td>\n",
       "      <td>NaN</td>\n",
       "      <td>NaN</td>\n",
       "      <td>NaN</td>\n",
       "      <td>NaN</td>\n",
       "      <td>Ongkir</td>\n",
       "    </tr>\n",
       "    <tr>\n",
       "      <td>34851</td>\n",
       "      <td>2020-01-24</td>\n",
       "      <td>200124/2/EGP</td>\n",
       "      <td>Sewa Coby Haus - Safety Play Fence 10+2</td>\n",
       "      <td>470000</td>\n",
       "      <td>COBYFENCE10+2-HHD-1961</td>\n",
       "      <td>2020-01-28</td>\n",
       "      <td>2020-03-28</td>\n",
       "      <td>60</td>\n",
       "      <td>Eda Elian</td>\n",
       "      <td>HDII HDII</td>\n",
       "      <td>B: 65% * pendapatan</td>\n",
       "      <td>7833.33</td>\n",
       "      <td>Sewa</td>\n",
       "    </tr>\n",
       "    <tr>\n",
       "      <td>34852</td>\n",
       "      <td>2020-01-24</td>\n",
       "      <td>200124/2/EGP</td>\n",
       "      <td>biaya deliv + pickup</td>\n",
       "      <td>99000</td>\n",
       "      <td>NaN</td>\n",
       "      <td>NaN</td>\n",
       "      <td>NaN</td>\n",
       "      <td>NaN</td>\n",
       "      <td>NaN</td>\n",
       "      <td>NaN</td>\n",
       "      <td>NaN</td>\n",
       "      <td>NaN</td>\n",
       "      <td>Ongkir</td>\n",
       "    </tr>\n",
       "    <tr>\n",
       "      <td>34853</td>\n",
       "      <td>2020-01-24</td>\n",
       "      <td>200124/3/GJY</td>\n",
       "      <td>Sewa Keenz - Air Plus</td>\n",
       "      <td>424000</td>\n",
       "      <td>HDII503</td>\n",
       "      <td>2020-01-31</td>\n",
       "      <td>2020-02-07</td>\n",
       "      <td>7</td>\n",
       "      <td>Fenny besttaria</td>\n",
       "      <td>HDII HDII</td>\n",
       "      <td>HDII: 55% * pendapatan</td>\n",
       "      <td>60571.4</td>\n",
       "      <td>Sewa</td>\n",
       "    </tr>\n",
       "    <tr>\n",
       "      <td>34854</td>\n",
       "      <td>2020-01-24</td>\n",
       "      <td>200124/3/GJY</td>\n",
       "      <td>biaya deliv + pickup</td>\n",
       "      <td>99000</td>\n",
       "      <td>NaN</td>\n",
       "      <td>NaN</td>\n",
       "      <td>NaN</td>\n",
       "      <td>NaN</td>\n",
       "      <td>NaN</td>\n",
       "      <td>NaN</td>\n",
       "      <td>NaN</td>\n",
       "      <td>NaN</td>\n",
       "      <td>Ongkir</td>\n",
       "    </tr>\n",
       "  </tbody>\n",
       "</table>\n",
       "</div>"
      ],
      "text/plain": [
       "      Tanggal_Pesanan          Nomor  \\\n",
       "34835      2020-01-23  200123/20/BCK   \n",
       "34836      2020-01-23  200123/20/BCK   \n",
       "34837      2020-01-23  200123/21/QXH   \n",
       "34838      2020-01-23  200123/21/QXH   \n",
       "34839      2020-01-23  200123/23/SAX   \n",
       "34840      2020-01-23  200123/23/SAX   \n",
       "34841      2020-01-23  200123/23/SAX   \n",
       "34842      2020-01-23  200123/23/SAX   \n",
       "34843      2020-01-23  200123/23/SAX   \n",
       "34844      2020-01-23  200123/23/SAX   \n",
       "34845      2020-01-23  200123/24/EZX   \n",
       "34846      2020-01-23  200123/24/EZX   \n",
       "34847      2020-01-23  200123/25/OBA   \n",
       "34848      2020-01-23  200123/25/OBA   \n",
       "34849      2020-01-24   200124/1/DAF   \n",
       "34850      2020-01-24   200124/1/DAF   \n",
       "34851      2020-01-24   200124/2/EGP   \n",
       "34852      2020-01-24   200124/2/EGP   \n",
       "34853      2020-01-24   200124/3/GJY   \n",
       "34854      2020-01-24   200124/3/GJY   \n",
       "\n",
       "                                          Komponen_Biaya   Harga  \\\n",
       "34835                Sewa Foldaway - Bumper Standard Mat  470000   \n",
       "34836                                    delivery+pickup   99000   \n",
       "34837            Sewa Little Tikes - Cozy Coupe Push Car  148000   \n",
       "34838                                    delivery+pickup   99000   \n",
       "34839              Sewa Babyzen - Yoyo+ Ride Along Board  907000   \n",
       "34840                        Sewa Chicco - Next2Me Dream  585000   \n",
       "34841  Sewa Rotho - Babydesign Top Bathtub with Newbo...  309000   \n",
       "34842          Sewa Doona - The Next Generation Car Seat  619000   \n",
       "34843                                 FREESEWA BABY BATH -309000   \n",
       "34844                               biaya deliv + pickup   99000   \n",
       "34845                                   Sewa Nuna - Leaf  344000   \n",
       "34846                               biaya deliv + pickup   99000   \n",
       "34847           Sewa Chicco - Next2Me Side Sleeping Crib  539000   \n",
       "34848                               biaya deliv + pickup   99000   \n",
       "34849                     Sewa Joie - Meet Tilt Car Seat  275000   \n",
       "34850                               biaya deliv + pickup   99000   \n",
       "34851            Sewa Coby Haus - Safety Play Fence 10+2  470000   \n",
       "34852                               biaya deliv + pickup   99000   \n",
       "34853                              Sewa Keenz - Air Plus  424000   \n",
       "34854                               biaya deliv + pickup   99000   \n",
       "\n",
       "                             Kode_Unit  Mulai_Sewa Selesai_Sewa Durasi_(hari)  \\\n",
       "34835  FOLDAWAYBUMPERSTANDARD-HHD-2301  2020-01-28   2020-02-27            30   \n",
       "34836                              NaN         NaN          NaN           NaN   \n",
       "34837                             DWG1  2020-01-31   2020-03-01            30   \n",
       "34838                              NaN         NaN          NaN           NaN   \n",
       "34839       BABYZENYOYO+BOARD-HHD-1937  2020-01-31   2020-03-01            30   \n",
       "34840         CHICCONEXTDREAM-HHD-2240  2020-01-31   2020-03-01            30   \n",
       "34841                          HDII575  2020-01-31   2020-03-01            30   \n",
       "34842                   STS-10-19-0011  2020-01-31   2020-03-01            30   \n",
       "34843                              NaN         NaN          NaN           NaN   \n",
       "34844                              NaN         NaN          NaN           NaN   \n",
       "34845                             SLM1  2020-01-28   2020-02-27            30   \n",
       "34846                              NaN         NaN          NaN           NaN   \n",
       "34847                            HDII7  2020-03-05   2020-04-05            31   \n",
       "34848                              NaN         NaN          NaN           NaN   \n",
       "34849               JOIEMEET-FRIN-1903  2020-02-07   2020-02-14             7   \n",
       "34850                              NaN         NaN          NaN           NaN   \n",
       "34851           COBYFENCE10+2-HHD-1961  2020-01-28   2020-03-28            60   \n",
       "34852                              NaN         NaN          NaN           NaN   \n",
       "34853                          HDII503  2020-01-31   2020-02-07             7   \n",
       "34854                              NaN         NaN          NaN           NaN   \n",
       "\n",
       "               Nama_Pelanggan     Pemilik_Unit        Skema_Bagi_Hasil  \\\n",
       "34835              Adila Gani        HDII HDII     B: 65% * pendapatan   \n",
       "34836                     NaN              NaN                     NaN   \n",
       "34837        Anissya Pramesti  Dwi Gracesantia     J: 45% * pendapatan   \n",
       "34838                     NaN              NaN                     NaN   \n",
       "34839       Adisti Daniaputri        HDII HDII     B: 65% * pendapatan   \n",
       "34840       Adisti Daniaputri        HDII HDII     B: 65% * pendapatan   \n",
       "34841       Adisti Daniaputri        HDII HDII  HDII: 55% * pendapatan   \n",
       "34842       Adisti Daniaputri        HDII HDII  HDII: 55% * pendapatan   \n",
       "34843                     NaN              NaN                     NaN   \n",
       "34844                     NaN              NaN                     NaN   \n",
       "34845  Fianindya Tunjung Sari    Santy Lasmana     F: 55% * pendapatan   \n",
       "34846                     NaN              NaN                     NaN   \n",
       "34847          Veni Hendarsih        HDII HDII     B: 65% * pendapatan   \n",
       "34848                     NaN              NaN                     NaN   \n",
       "34849         Megani Winadewi     Fala Rininda     J: 45% * pendapatan   \n",
       "34850                     NaN              NaN                     NaN   \n",
       "34851               Eda Elian        HDII HDII     B: 65% * pendapatan   \n",
       "34852                     NaN              NaN                     NaN   \n",
       "34853         Fenny besttaria        HDII HDII  HDII: 55% * pendapatan   \n",
       "34854                     NaN              NaN                     NaN   \n",
       "\n",
       "      Sewa_per_hari Item_Group  \n",
       "34835       15666.7       Sewa  \n",
       "34836           NaN     Ongkir  \n",
       "34837       4933.33       Sewa  \n",
       "34838           NaN     Ongkir  \n",
       "34839       30233.3       Sewa  \n",
       "34840         19500       Sewa  \n",
       "34841         10300       Sewa  \n",
       "34842       20633.3       Sewa  \n",
       "34843           NaN   Discount  \n",
       "34844           NaN     Ongkir  \n",
       "34845       11466.7       Sewa  \n",
       "34846           NaN     Ongkir  \n",
       "34847       17387.1       Sewa  \n",
       "34848           NaN     Ongkir  \n",
       "34849       39285.7       Sewa  \n",
       "34850           NaN     Ongkir  \n",
       "34851       7833.33       Sewa  \n",
       "34852           NaN     Ongkir  \n",
       "34853       60571.4       Sewa  \n",
       "34854           NaN     Ongkir  "
      ]
     },
     "execution_count": 10,
     "metadata": {},
     "output_type": "execute_result"
    }
   ],
   "source": [
    "data['Item_Group'] = np.nan*len(data)\n",
    "\n",
    "# Grouping sewa item\n",
    "# data.loc[data['Komponen_Biaya'].str.startswith('Sewa'), 'Item'] = data['Komponen_Biaya'].str.partition()[2]\n",
    "data.loc[data['Komponen_Biaya'].str.startswith('Sewa '), 'Item_Group'] = 'Sewa'\n",
    "\n",
    "# Grouping Ongkir\n",
    "ongkir_input = ['1 X Delivery + 2 X Pickup',\n",
    "                '1 X Delivery Dan 2 X Pickup',\n",
    "                '1 x delivery dan 2 x pickup',\n",
    "                '1 x delivery dan 4 x pickup',\n",
    "                '1 x pickup',\n",
    "                '1x delivery dan 2x pickup',\n",
    "                '1xdelivery + 2xpickup',\n",
    "                '2 x Delivery dan pickup',\n",
    "                '2 x delivery dan pickup',\n",
    "                '2 x delivery+pickup',\n",
    "                '2x biaya deliv + pickup',\n",
    "                '2x biaya pickup',\n",
    "                '2x delivery dan pickup',\n",
    "                '2xDelivery + 2xpickup',\n",
    "                '2xpickup', 'Biaga pickup',\n",
    "                'Biaya Kirim',\n",
    "                'Biaya Kirim & Jemput',\n",
    "                'Biaya Kirim + Jemput',\n",
    "                'Biaya Kirim + Pickup',\n",
    "                'Biaya Kirim + jemput',\n",
    "                'Biaya deliv',\n",
    "                'Biaya deliv + 2x pickup',\n",
    "                'Biaya deliv + pickul',\n",
    "                'Biaya deliv + pickuo',\n",
    "                'Biaya deliv + pickup',\n",
    "                'Biaya deliv+pickup',\n",
    "                'Biaya delivery + pickup',\n",
    "                'Biaya kirim',\n",
    "                'Biaya kirim & jemput',\n",
    "                'Biaya kirim + jemput',\n",
    "                'Biaya kirim + pickup',\n",
    "                'Biaya kirim + pickup (2x pickup)',\n",
    "                'Biaya pickup',\n",
    "                'Delivery + Pick up',\n",
    "                'Delivery + pick up',\n",
    "                'Delivery + pickup',\n",
    "                'Delivery dan Pickup',\n",
    "                'Delivery dan pickup',\n",
    "                'Delivery dan pickup disc',\n",
    "                'Delivery dan pickup sudah dengan order sebelumnya',\n",
    "                'Delivery+pickup',\n",
    "                'Delivey + Pick up',\n",
    "                'Disc delivery',\n",
    "                'Disc ongkir',\n",
    "                'Disc ongkir setengah',\n",
    "                'Discount Ongkir',\n",
    "                'Discount delivery dan pickup',\n",
    "                'Diskon 1x pickup',\n",
    "                'Diskon Ongkir',\n",
    "                'Diskon free ongkir',\n",
    "                'Diskon ongkir',\n",
    "                'DISKONONGKIR',\n",
    "                'FREE ONGKIR',\n",
    "                'FREEDELIVERY',\n",
    "                'FREEONGKIR',\n",
    "                'FREEONGKIRBEKASI',\n",
    "                'FREESHIPPINGBEKASI',\n",
    "                'Free Delivery',\n",
    "                'Free Delivery dan pickup',\n",
    "                'Free Delivery dan pickup (sudah dengan order sebelumnya)',\n",
    "                'Free Ongkir',\n",
    "                'Free Ongkir promo gajian',\n",
    "                'Free Pickup',\n",
    "                'Free Shipping',\n",
    "                'Free delivery',\n",
    "                'Free delivery + Pick up',\n",
    "                'Free ongkir',\n",
    "                'Free ongkir (sudah dengan order sebelumnya)',\n",
    "                'Free pickup',\n",
    "                'Free shipping',\n",
    "                'Free shipping bekasi',\n",
    "                'Free shipping sudah dengan sewa sebelumnya',\n",
    "                'Freeongkir',\n",
    "                'HORE dapat free ongkir bekasi',\n",
    "                'Hore Dapat Free Delivery+Pickup Senilai 99.000',\n",
    "                'Hore dapat disc ongkir!!',\n",
    "                'Ongkir',\n",
    "                'Ongkir Setengah',\n",
    "                'Ongkir setegah',\n",
    "                'Ongkir setengah',\n",
    "                'Ongkir setengah (delivery+pickup',\n",
    "                'Ongkos Kirim',\n",
    "                'Ongkos Kirim + Pick Up (2x Pick Up)',\n",
    "                'Ongkos Kirim+Pick Up',\n",
    "                'Ongkos kirim',\n",
    "                'Ongkos kirim + pick uP',\n",
    "                'Ongkos kirim + pick up',\n",
    "                'Ongkos kirim + pickup',\n",
    "                'Ongkos kirim+ pick up',\n",
    "                'Ongkos kirim+pick up',\n",
    "                'Ongkos kirim+pickup',\n",
    "                'Ongkos pick up',\n",
    "                'Ongkos pick up+ kirim',\n",
    "                'PROMO GAJIAN : FREE DELIVERY+PICKUP 99rb',\n",
    "                'PROMO GAJIAN : FREE ONGKIR!',\n",
    "                'PROMOBEKASI',\n",
    "                'PROMODELIVERY',\n",
    "                'PROMOFREEONGKIRBEKASI',\n",
    "                'PROMOFREESHIPPING',\n",
    "                'PROMOONGKIRBEKASI',\n",
    "                'Pick up',\n",
    "                'Pickup only',\n",
    "                'Promo Gajian Free Ongkir (minimal order 500rb)',\n",
    "                'Promo Gajian Free Ongkir 99rb',\n",
    "                'Promo free ongkir bekasi',\n",
    "                'Promo free ongkir khusus bekasi',\n",
    "                'Shipping',\n",
    "                'baiay deliv + pickup',\n",
    "                'biaay deliv + pickup',\n",
    "                'biaya  pickup',\n",
    "                'biaya (2x) delivery + (2x) pickup',\n",
    "                'biaya + Jemput',\n",
    "                'biaya 2x deliv + 2x pickup',\n",
    "                'biaya 2x delivery + 2x pickup',\n",
    "                'biaya deliv',\n",
    "                'biaya deliv  + pickup',\n",
    "                'biaya deliv (2x) + pickup (2x)',\n",
    "                'biaya deliv +  pickup',\n",
    "                'biaya deliv + 2x pickup',\n",
    "                'biaya deliv + 2xpickup',\n",
    "                'biaya deliv + Pickup',\n",
    "                'biaya deliv + oickup',\n",
    "                'biaya deliv + pick up',\n",
    "                'biaya deliv + pickup',\n",
    "                'biaya deliv + pickup (2x)',\n",
    "                'biaya deliv + pickup (LUAR AREA)',\n",
    "                'biaya deliv + pickup (Luar Area)',\n",
    "                'biaya deliv + pickup 1',\n",
    "                'biaya deliv + pickup`',\n",
    "                'biaya deliv + pickupq',\n",
    "                'biaya deliv +pickup',\n",
    "                'biaya deliv+ pickup',\n",
    "                'biaya delivery',\n",
    "                'biaya delivery + (2x)pickup',\n",
    "                'biaya delivery + pickup',\n",
    "                'biaya delivery dan pickup',\n",
    "                'biaya delliv + pickup',\n",
    "                'biaya eliv + pickup',\n",
    "                'biaya jemput',\n",
    "                'biaya kirim +  jemput',\n",
    "                'biaya kirim + jemput',\n",
    "                'biaya kirim + jemputq',\n",
    "                'biaya kirim + pickup',\n",
    "                'biaya kirirm + jemput',\n",
    "                'biaya picku[',\n",
    "                'biaya pickup',\n",
    "                'biays deliv + pickup',\n",
    "                'biya deliv + pickup',\n",
    "                'charge shipping',\n",
    "                'deivery dan pickup',\n",
    "                'delivery',\n",
    "                'delivery + 2xpickup',\n",
    "                'delivery + pick up',\n",
    "                'delivery + pickup',\n",
    "                'delivery 1 x dan pickup 2 x',\n",
    "                'delivery 1x dan pickup 2x',\n",
    "                'delivery and pickup',\n",
    "                'delivery da pickup',\n",
    "                'delivery dan pick up',\n",
    "                'delivery dan pickup',\n",
    "                'delivery dan pickup (disc)',\n",
    "                'delivery dan pickup (free)',\n",
    "                'delivery dan pickup bareng 181108/6/NOM',\n",
    "                'delivery dan pickup dengan order 181107/34/MPT',\n",
    "                'delivery dan pickup free',\n",
    "                'delivery dan pickup setengah',\n",
    "                'delivery dan pickup sudah dengan order sebelumnya',\n",
    "                'delivery only',\n",
    "                'delivery+Pickup',\n",
    "                'delivery+pickup',\n",
    "                'delivery+pickup sebelumnya',\n",
    "                'delivey dan pickup',\n",
    "                'delvery dan pickup',\n",
    "                'dikirim bareng order 190227/23/OPF',\n",
    "                'dikirim dengan order 190227/20/MHJ',\n",
    "                'dikirim dengan order 190227/38/OPT',\n",
    "                'dikirim dgn order 190225/21/XJN',\n",
    "                'dikirim dgn order 190225/9/DCF',\n",
    "                'dikirim dgn order 190227/18/VSN',\n",
    "                'dikirim dgn order 190312/11/IFR',\n",
    "                'disc delivery dan pickup',\n",
    "                'disc free ongkir minimal sewa 500rb',\n",
    "                'disc ongkir',\n",
    "                'disc shipping',\n",
    "                'discount pickup',\n",
    "                'diskon biaya deliv',\n",
    "                'diskon free 1x ongkir',\n",
    "                'diskon free ongkir (renewal)',\n",
    "                'diskon free ongkir khusus Bekasi',\n",
    "                'diskon free ongkir khusus bekasi',\n",
    "                'diskon ongkir',\n",
    "                'diskon pick up 20%',\n",
    "                'free antar',\n",
    "                'free delivery',\n",
    "                'free delivery (sudah dengan order sebelumnya)',\n",
    "                'free delivery (sudah dgn order sebelumnya)',\n",
    "                'free delivery dan pickup',\n",
    "                'free delivery dan pickup (sudah dengan order sebelumnya)',\n",
    "                'free delivery pickup (sudah dengan order sebelumnya)',\n",
    "                'free delivery, 1xpickup',\n",
    "                'free delivery, only pickup',\n",
    "                'free delivery, pickup only',\n",
    "                'free krn ada orderan di tgl yg sama',\n",
    "                'free ongkir',\n",
    "                'free ongkir (jadi satu dengan order sebelumnya)',\n",
    "                'free ongkir bekasi',\n",
    "                'free ongkir extend',\n",
    "                'free ongkir sudah dengan order sebelumnya',\n",
    "                'free shipping',\n",
    "                'free shipping bekasi',\n",
    "                'freedelivery',\n",
    "                'freeongkir',\n",
    "                'hore dapat free delivery dan pickup area bekasi',\n",
    "                'kirim + pick up dgn order',\n",
    "                'kirim + pick up sndr',\n",
    "                'ongkir',\n",
    "                'ongkir (Antar + Jemput)',\n",
    "                'ongkir (antar + jemput)',\n",
    "                'ongkir (antar+jemput)',\n",
    "                'ongkir setengah',\n",
    "                'ongkir setengah (bersama pickup order sebelumnya)',\n",
    "                'ongkir setengah (pengiriman oleh customer)',\n",
    "                'ongkir setengah delivery dan pickup',\n",
    "                'ongkir setengan',\n",
    "                'ongkir shipping',\n",
    "                'ongkir sudah dengan order sebelummya',\n",
    "                'ongkir sudah dengan order sebelumnya',\n",
    "                'ongkir sudah dengan sewa sebelumnya',\n",
    "                'ongkir tambahan',\n",
    "                'ongko kirim + pick up',\n",
    "                'ongkos  pick up',\n",
    "                'ongkos + pick up',\n",
    "                'ongkos deliv + pick up',\n",
    "                'ongkos deliv + pickup',\n",
    "                'ongkos deliv +pick up',\n",
    "                'ongkos deliv+pick up',\n",
    "                'ongkos deliv+pickup',\n",
    "                'ongkos kiri + pick up',\n",
    "                'ongkos kiriim + pick up',\n",
    "                'ongkos kirim',\n",
    "                'ongkos kirim  + pick up',\n",
    "                'ongkos kirim & pickup',\n",
    "                'ongkos kirim +  pick up',\n",
    "                'ongkos kirim + oick up',\n",
    "                'ongkos kirim + pick',\n",
    "                'ongkos kirim + pick up',\n",
    "                'ongkos kirim + pick up (2X,beda tgl sewa)',\n",
    "                'ongkos kirim + pick up (2x kirim + pick up)',\n",
    "                'ongkos kirim + pick up (2x kirim)',\n",
    "                'ongkos kirim + pick up (2x pengiriman)',\n",
    "                'ongkos kirim + pick up (2x pick up)',\n",
    "                'ongkos kirim + pick up (2x)',\n",
    "                'ongkos kirim + pickup',\n",
    "                'ongkos kirim +pick up',\n",
    "                'ongkos kirim +pickup',\n",
    "                'ongkos kirim+ pick up',\n",
    "                'ongkos kirim+pick up',\n",
    "                'ongkos kirm+pick up',\n",
    "                'ongkos kriim + pick up',\n",
    "                'ongkos pick up',\n",
    "                'ongkos pick up , dikirim dan pick up order 190213/27/UEJ',\n",
    "                'ongkos pickup',\n",
    "                'ongkoss deliv (pick up dengan order sblmnya)',\n",
    "                'order penukaran, free ongkir',\n",
    "                'pickup',\n",
    "                'pickup 1x',\n",
    "                'pickup Ingenuity - Baby Base 2-in-1 Booster Seat',\n",
    "                'pickup only',\n",
    "                'promo  gajian (free ongkir)',\n",
    "                'promo diskon free ongkir',\n",
    "                'promo diskon free ongkir khusus bekasi',\n",
    "                'promo diskon ongkir',\n",
    "                'promo diskon ongkos kirim',\n",
    "                'promo free ongkir',\n",
    "                'promo free ongkir Bekasi',\n",
    "                'promo free ongkir bekasi',\n",
    "                'promo free ongkir khusus bekasi',\n",
    "                'promo free ongkos kirim',\n",
    "                'promo gajiaan (free ongkir)',\n",
    "                'promo gajian (free ongkir)',\n",
    "                'promo gratis ongkir bekasi',\n",
    "                'promo gratis ongkir khusus bekasi',\n",
    "                'promo ongkir',\n",
    "                'promo ongkos kirim',\n",
    "                'selamat dapat disc ongkir!',\n",
    "                'shipping',\n",
    "                'shipping setengah',\n",
    "                'shipping sudah dengan order sebelumnya',\n",
    "                'sudah 1 kali ongkir',\n",
    "                'tanpa ongkir',\n",
    "                'voucher delivery dan pickup'\n",
    "                ]\n",
    "data.loc[data.Komponen_Biaya.isin(ongkir_input), 'Item_Group'] = 'Ongkir'\n",
    "\n",
    "# Grouping Penukaran\n",
    "penukaran_input = [\n",
    "    'BIAYA PENUKARAN',\n",
    "    'Biaya tukar',\n",
    "    'Free biaya tukar',\n",
    "    'biaya penukaran',\n",
    "    'biaya penukaran 17 Desember 2019',\n",
    "    'free penukaran',\n",
    "    'free selisih penukaran',\n",
    "    'free sewa (penukaran)',\n",
    "    'ongkos penukaran',\n",
    "    'penukaran',\n",
    "    'penukaran 20 agustus',\n",
    "    'tukar bumbo',\n",
    "    'voucher penukaran',\n",
    "]\n",
    "data.loc[data.Komponen_Biaya.isin(penukaran_input), 'Item_Group'] = 'Penukaran'\n",
    "\n",
    "# Grouping Gift Card Payment (incl. Vouchers)\n",
    "giftcard_input = [\n",
    "    'GC',\n",
    "    'GC dari order 190204/17/WNK',\n",
    "    'GIFT CARD',\n",
    "    'GIFTCARD',\n",
    "    'Gifcard',\n",
    "    'Gifcard order 190214/8/UFH',\n",
    "    'Gift Card',\n",
    "    'Gift Card C9J3-KNFP-U3LM-4W4G',\n",
    "    'Gift card',\n",
    "    'Giftcard',\n",
    "    'Giftcard 3238 Df4 A 6 Hc9 G23 A',\n",
    "    'Giftcard 548rb',\n",
    "    'Giftcard Okt 2016',\n",
    "    'Giftcard sewa nuna mixx',\n",
    "    'Giftcard voucher',\n",
    "    'Giftcard dan Voucher - Giftcard',\n",
    "    'Kode Giftcard : FORFANYMETIAF',\n",
    "    'Last Giftcard',\n",
    "    'Refund Gift Card',\n",
    "    'VOUCHER + REFUND',\n",
    "    'Voucher',\n",
    "    'Voucher 30rb',\n",
    "    'Voucher ForGina',\n",
    "    'Voucher VIE1824529',\n",
    "    'gift card',\n",
    "    'gift card - SORRYKENIA',\n",
    "    'gift voucher',\n",
    "    'giftcard',\n",
    "    'giftcard 1 jt',\n",
    "    'refund gift card',\n",
    "    'sisa dari GC 1 juta',\n",
    "    'voucher',\n",
    "    'voucher dari sewa cotonnier moses',\n",
    "    'voucher jumperoo',\n",
    "    'voucher junior bassinet',\n",
    "    'voucher sisa sewa rotho',\n",
    "    'Voucher  - Giftcard 1 Tahun'\n",
    "    'Babyloania - eGift Card'\n",
    "\n",
    "]\n",
    "data.loc[data.Komponen_Biaya.isin(giftcard_input), 'Item_Group'] = 'Gift_card'\n",
    "\n",
    "# Grouping Others\n",
    "others_input = [\n",
    "    '-',\n",
    "    'BIAYA GANTI RUGI BOLA',\n",
    "    'Charge sewa 5 hari',\n",
    "    'Cuci Stroller - Stroller dan Carseat',    \n",
    "    'Biaya selisih harga lama',\n",
    "    'REFUND (KELEBIHAN TRF)',\n",
    "    'kelebihan transfer',\n",
    "    'pembayaran order sblmnya',\n",
    "    'pengganti titip sewa',\n",
    "    'pengurangan harga sewa lama',\n",
    "    'potongan harga lama',\n",
    "    'sudah dibayar di order bednest',\n",
    "    'upgrade (order pengganti)',\n",
    "    'yg sudah dibayar cust',\n",
    "    'yg sudah dibayar customer'\n",
    "]\n",
    "data.loc[data.Komponen_Biaya.isin(others_input), 'Item_Group'] = 'Others'\n",
    "\n",
    "# Grouping Discounts (the rest)\n",
    "data.loc[data.Item_Group.isnull(), 'Item_Group'] = 'Discount'\n"
   ]
  },
  {
   "cell_type": "code",
   "execution_count": 11,
   "metadata": {
    "ExecuteTime": {
     "end_time": "2020-04-05T18:50:53.675801Z",
     "start_time": "2020-04-05T18:50:53.669082Z"
    },
    "scrolled": true
   },
   "outputs": [
    {
     "data": {
      "text/plain": [
       "Sewa         18057\n",
       "Ongkir       13719\n",
       "Discount      2841\n",
       "Gift_card      163\n",
       "Others          22\n",
       "Penukaran       20\n",
       "Name: Item_Group, dtype: int64"
      ]
     },
     "execution_count": 11,
     "metadata": {},
     "output_type": "execute_result"
    }
   ],
   "source": [
    "data.Item_Group.value_counts()"
   ]
  },
  {
   "cell_type": "code",
   "execution_count": 12,
   "metadata": {
    "ExecuteTime": {
     "end_time": "2020-04-05T18:50:55.414231Z",
     "start_time": "2020-04-05T18:50:55.336917Z"
    }
   },
   "outputs": [],
   "source": [
    "# Teasing out rented item\n",
    "data.loc[data.Item_Group=='Sewa','Sewa_Item'] = data['Komponen_Biaya'].str.partition()[2]"
   ]
  },
  {
   "cell_type": "code",
   "execution_count": 14,
   "metadata": {
    "ExecuteTime": {
     "end_time": "2020-04-05T18:51:02.739289Z",
     "start_time": "2020-04-05T18:51:02.736077Z"
    }
   },
   "outputs": [],
   "source": [
    "#Setting up a new column\n",
    "data['Item_Category'] = np.nan*len(data)"
   ]
  },
  {
   "cell_type": "code",
   "execution_count": 15,
   "metadata": {
    "ExecuteTime": {
     "end_time": "2020-04-05T18:51:03.853273Z",
     "start_time": "2020-04-05T18:51:03.812526Z"
    }
   },
   "outputs": [],
   "source": [
    "# Grouping Strollers \n",
    "# including stroller adaptors / accessories\n",
    "\n",
    "stroller_list = [\n",
    "    'Aprica - Karoon',\n",
    "    'Aprica - Magical Air S',\n",
    "    'Baby Elle - Carseat BE 500',\n",
    "    'Baby Elle - Citilite 2',\n",
    "    'Baby Elle - Cozy',\n",
    "    'Baby Elle - Duo Evogue',\n",
    "    'Baby Elle - S330 Revo',\n",
    "    'Baby Elle - Trevi Twin S-2500',\n",
    "    'Baby Jogger - City Mini Stroller',\n",
    "    'Baby Jogger - City Select Twin',\n",
    "    'Baby Jogger - City Tour',\n",
    "    'Babydoes - 415 Skyline Stroller',\n",
    "    'Babystyle - Hybrid Cabi Stroller',\n",
    "    'Babystyle - Oyster 2',\n",
    "    'Babystyle - Oyster 2 Humbug Limited Edition',\n",
    "    'Babystyle - Oyzter Zero',\n",
    "    'Babyzen  - Yoyo +6+  - Stroller',\n",
    "    'Babyzen - Adaptor For Maxi-Cosi Babyzen Yoyo+',\n",
    "    'Babyzen - Yoyo 0+ (Seat Only)',\n",
    "    'Babyzen - Yoyo 6+',\n",
    "    'Babyzen - Yoyo+ 0+',\n",
    "    'Babyzen - Yoyo+ 6+',\n",
    "    'Babyzen - Yoyo+ Footmuff',\n",
    "    'Babyzen - Yoyo+ Ride Along Board',\n",
    "    'Bugaboo - Adaptor For Maxi-Cosi Bee',\n",
    "    'Bugaboo - Bee 3 Bassinet + Adaptor',\n",
    "    'Bugaboo - Bee 5',\n",
    "    'Bugaboo - Bee 5 Bassinet with Base & Adaptor',\n",
    "    'Bugaboo - Bee Plus',\n",
    "    'Bugaboo - Bee3',\n",
    "    'Bugaboo - Bee3 Limited Edition',\n",
    "    'Bugaboo - Bugaboo Comfort Wheeled Board with Seat + Adaptor (for Bugaboo Bee 5 ONLY)',\n",
    "    'Bugaboo - Comfort Transport Bag',\n",
    "    'Bugaboo - Comfort Wheeled Board with Seat + Adaptor',\n",
    "    'Bugaboo - Compact Transport Bag',\n",
    "    'Bugaboo - Footmuff',\n",
    "    'Chicco - Liteway Stroller',\n",
    "    'Cocolatte  - Otto Pali',\n",
    "    'Cocolatte  - Quantum',\n",
    "    'Cocolatte - CL 550 Twin',\n",
    "    'Cocolatte - Pendio',\n",
    "    'Cocolatte - Pockit 2',\n",
    "    'Cocolatte - Pockit CL788',\n",
    "    'Cocolatte - Pockit CL838',\n",
    "    'Cocolatte - Safee CS810',\n",
    "    'Cocolatte - T80AN Mist',\n",
    "    'Cocolatte - Trip CL 904',\n",
    "    'Cocolatte - Trip R CL908',\n",
    "    'Cocolatte - iSport',\n",
    "    'Combi - F2 Plus Stroller',\n",
    "    'Combi - Urban Walker',\n",
    "    'Cosatto - Shuffle Tandem',\n",
    "    'Cuci Stroller - Stroller dan Carseat',\n",
    "    'Easy Walker - Mini Stroller',\n",
    "    'Einhill - Armadillo 1',\n",
    "    'Einhill - Armadillo 2',\n",
    "    'Elle - Delray Classic LDR16',\n",
    "    'Elle - Gogo',\n",
    "    'GoodBaby - A2009H',\n",
    "    'GoodBaby - GB Buggy Qbit+',\n",
    "    'GoodBaby - Pockit+',\n",
    "    'Graco - Evo Mini',\n",
    "    'Graco - Signature Series Stroller',\n",
    "    'Greentom - Upp Classic',\n",
    "    'Jette Kinderwagen - Jasper',\n",
    "    'Joie - Aire Twin Stroller',\n",
    "    'Joie - Chrome',\n",
    "    'Joie - Dreamer',\n",
    "    'Joie - Evalite Duo',\n",
    "    'Joie - Extoura Travel System',\n",
    "    'Joie - Meet Float',\n",
    "    'Joie - Mirus',\n",
    "    'Joovy - Big Caboose Twin Stroller',\n",
    "    'Joovy - Caboose Ultralight with Extra Seat Stroller',\n",
    "    'Keenz - Air Plus',\n",
    "    'Lascal - Buggyboard Maxi',\n",
    "    'Maclaren - Quest Sport',\n",
    "    'Maclaren - Triumph',\n",
    "    'Maclaren - Twin Triumph',\n",
    "    'Maclaren - XT',\n",
    "    'Mamas Papas - Acro',\n",
    "    'Mamas Papas - Adaptor for Maxi Cosi Mamas Papas Sola/Urbo',\n",
    "    'Mamas Papas - Armadillo',\n",
    "    'Mamas Papas - Armadillo Flip',\n",
    "    'Mamas Papas - Sola',\n",
    "    'Mamas Papas - Sola 2',\n",
    "    'Mamas Papas - Urbo 2',\n",
    "    'Mamas Papas - Urbo 2 - Rose Gold Limited Edition',\n",
    "    'Manito - Elegance Alpha Stroller Weather Shield',\n",
    "    'Micralite - Superlite',\n",
    "    'Mima - Xari Stroller',\n",
    "    'Nuna - Ivvi',\n",
    "    'Nuna - Ivvi Carry Cot + Stand',\n",
    "    'Nuna - Mixx',\n",
    "    'Nuna - Pepp',\n",
    "    'Orbit Baby - G2',\n",
    "    'Pali - Sei.9',\n",
    "    'Peg Perego - Pliko P3',\n",
    "    'Pliko - Milano 365',\n",
    "    'Quinny - Buzz 2012',\n",
    "    'Quinny - Moodd',\n",
    "    'Recaro - Easylife Stroller',\n",
    "    'Silver Cross - Micro',\n",
    "    'Silver Cross - Reflex + Baby Cot',\n",
    "    'Silver Cross - Surf',\n",
    "    'Stokke - Xplory V2',\n",
    "    'Stokke - Xplory V3',\n",
    "    'Stokke - Xplory V4 & Carrycot',\n",
    "]\n",
    "\n",
    "data.loc[data.Sewa_Item.isin(stroller_list), 'Item_Category'] = 'Stroller'"
   ]
  },
  {
   "cell_type": "code",
   "execution_count": 16,
   "metadata": {
    "ExecuteTime": {
     "end_time": "2020-04-05T18:51:13.049478Z",
     "start_time": "2020-04-05T18:51:12.980763Z"
    }
   },
   "outputs": [],
   "source": [
    "# Grouping cribs\n",
    "# cribs include sleepers, bassinets, playards\n",
    "crib_list = [\n",
    "    'Baby Delight - Snuggle Nest',\n",
    "    'BabyMinds - Elle Crib with Drawer + Baby Bee Mattress',\n",
    "    'Babydoes - 1740 Bravada',\n",
    "    'Babymoov - Bibed',\n",
    "    'Babymoov - Cosymat',\n",
    "    'Bed Box - Baby Bed Box',\n",
    "    'Bednest - Bedside Crib',\n",
    "    'Brevi - PlayPen',\n",
    "    'Chicco - Next2Me Dream',\n",
    "    'Chicco - Next2Me Side Sleeping Crib',\n",
    "    'Cocoonababy - Cocoonababy',\n",
    "    'Cotonnier - Cocotier Small Crib',\n",
    "    'Cotonnier - Moses Basket',\n",
    "    'Cotonnier - New Citronnier Small Crib',\n",
    "    'Cotonnier - Palmier Small Crib',\n",
    "    'Dr. Bebe - Foldable Bumper Bed',\n",
    "    'Evenflo - Villi Travel Crib',\n",
    "    \"Fisher-Price - Green Rock 'n Play Portable Bassinet\",\n",
    "    'Fisher-Price - On-The-Go Baby Dome',\n",
    "    \"Graco - Graco Pack 'n Play Silhouette Playard\",\n",
    "    'Graco - Pack & Play Playard',\n",
    "    'Graco - Pack & Play Playard with Cuddle Cove Rocking Seat',\n",
    "    \"Graco - Pack 'n Play Playard with Newborn Napper Station\",\n",
    "    'Graco - Pack n Play with Reversible Napper & Changer',\n",
    "    'Graco - Suite Solution Pack & Play Playard',\n",
    "    'HALO - Bassinet Swivel Sleeper',\n",
    "    'Ingenuity - Washable Playard',\n",
    "    'Ingenuity - Washable Playard with Dream Centre',\n",
    "    'Jarrons - Happy Sleep 5 in 1 Convertible Baby Cot',\n",
    "    'Joie - Excursion Change and Rock Travel Cot',\n",
    "    'Joie - Illusion Travel Cot',\n",
    "    'Junior - Baby Bassinet 720A',\n",
    "    'Maali - Bed',\n",
    "    'Maali - Mylo Bed',\n",
    "    'Mothercare - Roll Up Moses Basket (tanpa stand)',\n",
    "    'Mothercare - Roll Up Moses Basket with Stand',\n",
    "    'Mothercare - Swinging Crib',\n",
    "    'Nuna - Sena',\n",
    "    'Summer Infant - By Your Side Sleeper',\n",
    "    'SwaddleMe - By Your Side Sleeper',\n",
    "    'The First Years - Close And Secure Sleeper',\n",
    "    'Tutti Bambini - Cozee Bedside Crib',\n",
    "]\n",
    "\n",
    "data.loc[data.Sewa_Item.isin(crib_list), 'Item_Category'] = 'Crib'"
   ]
  },
  {
   "cell_type": "code",
   "execution_count": 17,
   "metadata": {
    "ExecuteTime": {
     "end_time": "2020-04-05T18:51:14.556843Z",
     "start_time": "2020-04-05T18:51:14.523026Z"
    }
   },
   "outputs": [],
   "source": [
    "# Grouping Car Seats\n",
    "\n",
    "car_seat_list = [\n",
    "    'Ailebebe - Car Seat Kurutto NT2',\n",
    "    'Babydoes - CH875 Car Seat',\n",
    "    'Brevi - Silverline Car Seat',\n",
    "    'Britax - B-Safe Infant Car Seat',\n",
    "    'Britax - Romer Evolva 1-2-3 Plus',\n",
    "    'Britax - Roundabout Convertible Car Seat',\n",
    "    'Cam - Il Mondo Del Bambino Area Zero+ Car Seat',\n",
    "    'Care Baby  - Massimo Toddler Car Seat',\n",
    "    'Cocolatte - CL858 Car Seat',\n",
    "    'Cocolatte - CS888E Car Seat',\n",
    "    'Cocolatte - Carseat Omni Guard',\n",
    "    'Combi - Coccoro S',\n",
    "    'Doona - The Next Generation Car Seat',\n",
    "    'Evenflo - Chase LX Harnessed Booster Car Seat',\n",
    "    'Ferrari - Beline Car Seat',\n",
    "    'Ferrari - Cosmo Convertible Car Seat',\n",
    "    'Graco - 4Ever All In 1',\n",
    "    'Graco - Junior Baby Car Seat 0+',\n",
    "    'Graco - MyRide65 Car Seat',\n",
    "    'Joie - Every Stages Car Seat',\n",
    "    'Joie - Gemm Car Seat',\n",
    "    'Joie - Gemm Car Seat + Base',\n",
    "    'Joie - Meet Tilt Car Seat',\n",
    "    'Joie - Steadi Car Seat',\n",
    "    'Joie Signature - I-Gemm Infant Car Seat',\n",
    "    'Maxi Cosi - Mico AP With Base',\n",
    "    'Maxi-Cosi - Axiss Car Seat',\n",
    "    'Maxi-Cosi - CabrioFix Car Seat',\n",
    "    'Maxi-Cosi - Opal',\n",
    "    'Maxi-Cosi - Pebble Car Seat',\n",
    "    'Maxi-Cosi - Pria 70',\n",
    "    'Maxi-Cosi - Vello 65',\n",
    "    'Mothercare - Advance XP Highback Booster Car Seat',\n",
    "    'Mothercare - Car Seat Advance SP',\n",
    "    'Mothercare - Madrid Combination Car Seat',\n",
    "    'Nuna - Pipa Car Seat',\n",
    "    'Nuna - Pipa Car Seat + Base',\n",
    "    'Nuna - Pipa Icon',\n",
    "    'Nuna - Pipa Isofix Base',\n",
    "    'Nuna - Rava Car Seat',\n",
    "    'Orbit Baby - G3 Toddler Car Seat',\n",
    "    'Peg Perego - Primo Viaggio 4-35 Car Seat',\n",
    "    'Peg Perego - Primo Viaggio Convertible Car Seat',\n",
    "    'Peg Perego - Primo Viaggio SL Infant Car Seat',\n",
    "    'Peg Perego - Viaggio 0+1 Switchable Car Seat',\n",
    "    'Recaro - Performance Ride Vibe Toddler Car Seat',\n",
    "    'Recaro - Young Sport',\n",
    "    'Silver Cross - Simplicity Infant Carrier',\n",
    "    'Sparco - Italy F1000K',\n",
    "    'Stokke - Multi Car Seat Adaptor',\n",
    "    'Stokke - iZi-Go by BeSafe Baby Car Seat',\n",
    "]\n",
    "\n",
    "data.loc[data.Sewa_Item.isin(car_seat_list), 'Item_Category'] = 'Car_Seat'"
   ]
  },
  {
   "cell_type": "code",
   "execution_count": 18,
   "metadata": {
    "ExecuteTime": {
     "end_time": "2020-04-05T18:51:20.012583Z",
     "start_time": "2020-04-05T18:51:19.977996Z"
    }
   },
   "outputs": [],
   "source": [
    "# Grouping Rockers \n",
    "\n",
    "rocker_list = [\n",
    "    '4Moms - Bounceroo',\n",
    "    '4Moms - Mamaroo',\n",
    "    '4Moms - Mamaroo 2016',\n",
    "    '4Moms - Origami Bassinet',\n",
    "    'Bright Starts - Portable Swing',\n",
    "    'Bright Starts - Roaming Safari Portable Swing',\n",
    "    'Combi - Fealetto Auto Swing',\n",
    "    'Comfort & Harmony - Cradling Rocker',\n",
    "    'Fisher-Price - Brentwood Baby Swing',\n",
    "    \"Fisher-Price - Cradle 'n Swing\",\n",
    "    'Fisher-Price - Infant To Toddler Rocker',\n",
    "    \"Fisher-Price - Newborn Rock 'n Play Sleeper\",\n",
    "    'Fisher-Price - Newborn-to-Toddler Portable Rocker',\n",
    "    'Fisher-Price - Rainforest Friends Newborn to Toddler Portable Rocker',\n",
    "    'Graco - Move with Me',\n",
    "    'Graco - Swing Lovin Hug With Plug',\n",
    "    'Iimo - Rocking Chair',\n",
    "    'Ingenuity - ConvertMe Swing-2-Seat',\n",
    "    'Ingenuity - Moonlight Rocking Sleeper',\n",
    "    'Ingenuity - Rock & Relax Elevated Rocker Deluxe',\n",
    "    'Ingenuity - Soothe ‘n Delight Portable Swing',\n",
    "    'Joie - Serina 2in1 Swing and Rocker',\n",
    "    'Mamalove - Baby Swing',\n",
    "    'Mastela - Deluxe Portable Swing',\n",
    "    'Mothercare - Loved So Much Bouncer',\n",
    "    'Mothercare - Norwegian Wood Bouncer',\n",
    "    'Mothercare - Owl 2-in-1 Rocker & Bouncer',\n",
    "    'Nuna - Leaf',\n",
    "    'Nuna - Leaf Curv',\n",
    "    'Nuna - Leaf Curv with Toy Bar',\n",
    "    'Nuna - Leaf Grow',\n",
    "    'Stokke - Steps™ Bouncer\\u200b',\n",
    "    'Sugar Baby - 10-in-1 Premium Rocker',\n",
    "    'Tiny Love - 3in1 Rocker Napper',\n",
    "    'Weeler - Moonlight Rocking Sleeper Deluxe 6635',\n",
    "    'Weeler - Portable Swing 6194',\n",
    "    'Fisher-Price - Lil Laugh and Learn Swing',\n",
    "]\n",
    "\n",
    "data.loc[data.Sewa_Item.isin(rocker_list), 'Item_Category'] = 'Rocker'"
   ]
  },
  {
   "cell_type": "code",
   "execution_count": 19,
   "metadata": {
    "ExecuteTime": {
     "end_time": "2020-04-05T18:51:20.438248Z",
     "start_time": "2020-04-05T18:51:20.403562Z"
    }
   },
   "outputs": [],
   "source": [
    "#Grouping slings, carriers\n",
    "carrier_list = [\n",
    "    'Aprica - Pitta 4 Way Baby Carrier',\n",
    "    'Baba Slings - Classic',\n",
    "    'Baba Slings - Lite',\n",
    "    \"Baby K'Tan - Original Denim\",\n",
    "    \"Baby K'tan - Breeze\",\n",
    "    'Beco - Gemini',\n",
    "    'Boba - Carrier 3G',\n",
    "    'Boba - Carrier 4G',\n",
    "    'Cybex - Yema Click Baby Carrier',\n",
    "    'Deuter - Kid Comfort II Carrier',\n",
    "    'Deuter - Kid Comfort III Carrier',\n",
    "    'Ergobaby - 360 Carrier',\n",
    "    'Ergobaby - 360 Carrier (2017)',\n",
    "    'Ergobaby - Adapt Carrier',\n",
    "    'Ergobaby - Hip Seat Carrier',\n",
    "    'Ergobaby - Infant Insert',\n",
    "    'Ergobaby - Organic Baby Carrier',\n",
    "    'Ergobaby - Original',\n",
    "    'Hippychick - Hipseat',\n",
    "    'I-Angel - Hello Hipseat Carrier',\n",
    "    'I-Angel - Hipseat Carrier',\n",
    "    'I-Angel - Miracle Hipseat Carrier',\n",
    "    'I-Angel - Rainbow 2 Hipseat Carrier',\n",
    "    'LittleLife - Explorer S2 Carrier',\n",
    "    'Minimonkey - Twin Carrier',\n",
    "    'Pognae - ORGA+ 100% All In One Organic Hipseat Carrier',\n",
    "    'Pognae - Orga Organic Hipseat Carrier',\n",
    "    'Pognae - no.5 Waterproof Outdoor Hipseat Carrier',\n",
    "    'Stokke - MyCarrier Cool',\n",
    "    'Tula - Toddler Carrier',\n",
    "    'We Made Me - Pao Papoose Baby Carrier',\n",
    "    'We Made Me - Soohu SlingTM Classic Organic',\n",
    "]\n",
    "\n",
    "data.loc[data.Sewa_Item.isin(carrier_list), 'Item_Category'] = 'Carrier'"
   ]
  },
  {
   "cell_type": "code",
   "execution_count": 20,
   "metadata": {
    "ExecuteTime": {
     "end_time": "2020-04-05T18:51:20.943785Z",
     "start_time": "2020-04-05T18:51:20.906810Z"
    }
   },
   "outputs": [],
   "source": [
    "# Grouping Toys\n",
    "\n",
    "toys_list = [\n",
    "    'Atticlab Design  - Yellow on White Small Set',\n",
    "    'Atticlab Design - All White Medium Set',\n",
    "    'Atticlab Design - Natural Small Set',\n",
    "    'Atticlab Design - Retro Set',\n",
    "    'Atticlab Design - Yellow on Brown Small Set',\n",
    "    'Atticlab Design - Yellow on White Medium Set',\n",
    "    'B Kids - Giraffe Fun Station',\n",
    "    'Beezy Board - 20 x 30 cm',\n",
    "    'Beezy Board - Coba Sebelum Membeli : Double Side 45 x 60cm',\n",
    "    'Beezy Board - Double Side 30 x 45cm',\n",
    "    'Beezy Board - Double Side 45 x 60cm',\n",
    "    'Beezy Board - Mini (20 x 15cm)',\n",
    "    'Bundle - Bambinio Activity Toys 1(Bright Starts Explore & Roar Jumper + ELC Lights and Sounds Buggy Driver)',\n",
    "    'Bundle - Bambinio Activity Toys 2 (Fisher Price Lion Musical Walker + Vtech Sit To Stand Alphabet Train)',\n",
    "    'Bundle - Bundle of Toys 1 : Fisher Price Walker To Wagon + LeapFrog Roll and Go Rocking Horse',\n",
    "    'Bundle - Bundle of Toys 10 : ELC Light and Sound Drum + Fisher Price Brilliant Basics Little Super Star Classical Stacker',\n",
    "    'Bundle - Bundle of Toys 11 : Vtech Baby’s First Storytime Rhymes + Fisher Price Laugh & Learn Smart Stages Vacuum + Vtech Crawl and Learn Bright Lights Ball',\n",
    "    'Bundle - Bundle of Toys 12: LeapFrog Roll and Go Rocking Horse + ELC Highchair Steering Wheel + Fisher Price Musical Lion Walker',\n",
    "    'Bundle - Bundle of Toys 3 (Fisher Price Laugh & Learn Puppy’s Activity Home + Fisher Price Laugh and Learn Smart Stages Vacuum)',\n",
    "    'Bundle - Bundle of Toys 5 (ELC Light and Sound Radio + ELC Light and Sound Activity Cash Register)',\n",
    "    'Bundle - Bundle of Toys 7 : ELC Alphabet Teaching Frame & ELC Abacus Teaching Frame',\n",
    "    'Bundle - Bundle of Toys 8 (Fisher-Price® Bright Beats Activity Center + Fisher Price Peek - A - Boo Cuckoo)',\n",
    "    'Bundle - Bundle of Toys: ELC Sing Star Microphone & ELC Fun-Key Guitar',\n",
    "    'Bundle - Bundle of Toys: LeapFrog Roll and Go Rocking Horse & Fisher Price Peek-a-Boo Toaster',\n",
    "    'Bundle - Kids Athletic',\n",
    "    'Bundle - Newborn Outfit for Photography',\n",
    "    'Bundle - of Toys 2 (Fisher Price Laugh & Learn Smart Stages Laptop + Fisher Price Infant Tappin’ Beats Bench)',\n",
    "    'Bundle - of Toys 4 (ELC Tabletop Art Center + ELC Alphabet Teaching Frame)',\n",
    "    'Bundle - of Toys 6 (Vtech Animal Nursery Rhymes + ELC Stacking Rings + Fisher Price Laugh and Learn Medical Kit)',\n",
    "    'Bundle - of Toys : ELC Little Learning Phone, ELC My First Torch, Fisher Price Laugh & Learn Smart Stages Tablet, Fisher Price Pull Along Turtle',\n",
    "    'Bundle - of Toys : Fisher Price Laugh & Learn Learning Keys, Fisher Price Laugh & Learn Learning Happy Apple & Leapfrog Learn & Groove : Color Play Drum',\n",
    "    'Bundle - of Toys : Fisher Price Laugh & Learn Sing & learn Music Player, Fisher Price Laugh & Learn Click n Learn Camera Toy & Fisher Price Laugh & Learn Storybook Rhymes',\n",
    "    'Bundle - of Toys: ELC Light and Sound Buggy Driver & ELC Singing Animal Keyboard',\n",
    "    'Bundle - of toys 9 : Fisher Price Musical Lion Walker & Fisher Price Pop N Push Elephant',\n",
    "    'ELC - Carry Along Keyboard',\n",
    "    'ELC - Cleaning Trolley',\n",
    "    'ELC - Cupcake My First Pram',\n",
    "    'ELC - Cupcake Nursery Center',\n",
    "    'ELC - Double Sided Wooden Easel',\n",
    "    'ELC - Drop and Pop Giraffe',\n",
    "    'ELC - Fairy Palace Pop Up Tent',\n",
    "    'ELC - Giant Activity Cube',\n",
    "    'ELC - Giant Wooden Activity Cube',\n",
    "    'ELC - Key Boom Board Piano',\n",
    "    \"ELC - LIttle Cook's Kitchen\",\n",
    "    'ELC - Lights and Sound Activity Table',\n",
    "    'ELC - Lights and Sounds Buggy Driver',\n",
    "    'ELC - Musical Activity Station',\n",
    "    'ELC - Musical Footsteps',\n",
    "    'ELC - My Magnetic Pattern Board',\n",
    "    'ELC - Retro Diner Kitchen',\n",
    "    'ELC - Sand and Water Table',\n",
    "    'ELC - Sensory Dome',\n",
    "    'Fisher-Price - Cookie Shape Surprise',\n",
    "    'Fisher-Price - Laugh & Learn Rainforest Friends Deluxe Musical Mobile',\n",
    "    'Fisher-Price - Learning Toolbench',\n",
    "    'Fisher-Price - Light and Sounds Activity Table',\n",
    "    'Fisher-Price - Precious Planet 2-in-1 Projection Mobile',\n",
    "    'Injusa - Disney Frozen Forest Playhouse',\n",
    "    'Kiddy Star - Building Blocks - 30 pieces',\n",
    "    'LeapFrog - Animal Adventure Learning Table',\n",
    "    'LeapFrog - Learn and Groove Musical Table',\n",
    "    'LeapFrog - My Discovery House',\n",
    "    'Little Tikes - Cook n Grow Kitchen',\n",
    "    'Little Tikes - Cook n Store™ Kitchen',\n",
    "    \"Little Tikes - Picnic n' Playhouse\",\n",
    "    'Little Tikes - Sand & Sea Play Table',\n",
    "    'Little Tikes - Super Chef Kitchen™',\n",
    "    'Magna-Tiles - CLEAR 48 Piece Set',\n",
    "    'Melissa & Doug - 4-in-1 Melissa & Doug Sound Puzzles and Latches Board',\n",
    "    'Melissa & Doug - 5-in-1 Melissa & Doug Sound Puzzles and Latches Board',\n",
    "    'Playgo - Fun Wheels Water Activity',\n",
    "    'Step2 - Barbie Fantasy Vanity',\n",
    "    'Tegu - Magnetic Wooden Blocks Classics 14-Pieces Set',\n",
    "    'VTech - Little Friendlies 3 in 1 Baby Centre',\n",
    "    'VTech - Winnie the Pooh Explore and Learn Table',\n",
    "    'Weplay - Q-Blocks 16 pieces',\n",
    "    'IKEA - Duktig Play Kitchen',\n",
    "    'Magformers - 30 Pieces Set'\n",
    "]\n",
    "\n",
    "data.loc[data.Sewa_Item.isin(toys_list), 'Item_Category'] = 'Toy'"
   ]
  },
  {
   "cell_type": "code",
   "execution_count": 21,
   "metadata": {
    "ExecuteTime": {
     "end_time": "2020-04-05T18:51:21.411517Z",
     "start_time": "2020-04-05T18:51:21.379646Z"
    }
   },
   "outputs": [],
   "source": [
    "# Grouping books \n",
    "\n",
    "books_list = [\n",
    "    'Pustakalana - Bag of Books A-B-C',\n",
    "    'Pustakalana - Bag of Books D-E-F',\n",
    "    'Pustakalana - Bag of Books G-H-I-J',\n",
    "    'Rabbit Hole - Paket Buku Bayi',\n",
    "    'Rabbit Hole - Rabbit Hole Buku Pra Sekolah - Bahasa Inggris',\n",
    "    'Rabbit Hole - Rabbit Hole Paket Buku Bayi - Bahasa Inggris'\n",
    "]\n",
    "\n",
    "data.loc[data.Sewa_Item.isin(books_list), 'Item_Category'] = 'Book'"
   ]
  },
  {
   "cell_type": "code",
   "execution_count": 22,
   "metadata": {
    "ExecuteTime": {
     "end_time": "2020-04-05T18:51:21.959281Z",
     "start_time": "2020-04-05T18:51:21.921116Z"
    }
   },
   "outputs": [],
   "source": [
    "# Grouping Activities\n",
    "\n",
    "activities_list = [\n",
    "    'Baby Einstein - 2-in-1 Lights & Sea Activity Gym & Saucer',\n",
    "    'Baby Einstein - Activity Jumper',\n",
    "    \"Baby Einstein - Neptune's Ocean Discovery Jumper\",\n",
    "    \"Baby Einstein - Sewa Perdana: Baby Einstein Neptune's Ocean Discovery Jumper\",\n",
    "    'Begun - Balance Beam',\n",
    "    'Begun - Pikler Triangle',\n",
    "    'Boulder - Round Trampoline with Safety Net',\n",
    "    'Bright Starts - 2-in-1 ConvertMe Activity Table & Gym',\n",
    "    'Bright Starts - Around We Go',\n",
    "    'Bright Starts - Bounce Bounce Baby Einstein Edition',\n",
    "    'Bright Starts - Bounce-a-bout',\n",
    "    'Bright Starts - Explore & Roar Jumper',\n",
    "    'Bright Starts - Finding Nemo Sea Of Activities Jumper',\n",
    "    'Bright Starts - Having a Ball Get Rollin Activity Table',\n",
    "    'Bright Starts - Learn & Giggle Activity Station',\n",
    "    'Bright Starts - Light Up Lagoon Activity Gym',\n",
    "    'Bright Starts - Pop & Roll Roadster',\n",
    "    'Bright Starts - Sewa Perdana: Bright Starts Around We Go',\n",
    "    'Bright Starts - Smiling Safari Jumper',\n",
    "    'Ching Ching - Rabbit Slide, Ladybug Swing & Basketball (SL08)',\n",
    "    'Coby Haus - Lolly Gummy Rocking Cattle',\n",
    "    'Coby Haus - Lolly Gummy Rocking Chair',\n",
    "    'Coby Haus - Lolly Gummy Slides',\n",
    "    'ELC - Baby Active Trampoline',\n",
    "    'ELC - Blossom Farm Woolly Lamb Rocker',\n",
    "    'ELC - Hexagon Ball Pit (+30 bola)',\n",
    "    'ELC - Indoor Giraffe Trampoline',\n",
    "    'ELC - Junior Trampoline',\n",
    "    'ELC - Sensory Ball Pit',\n",
    "    \"ELC - Sit 'n' Bounce\",\n",
    "    'Eduplay - Rocking Horse',\n",
    "    'Eduplay - Slide',\n",
    "    'Evenflo - ExerSaucer Triple Fun',\n",
    "    'Evenflo - Exersaucer SmartSteps ABC',\n",
    "    'Evenflo - Exersaucer SmartSteps Walk Around',\n",
    "    'Fisher-Price - Animal Krackers Jumperoo',\n",
    "    'Fisher-Price - Baby Gift Rainforest Play Gym',\n",
    "    'Fisher-Price - Bright Beats Activity Center',\n",
    "    'Fisher-Price - Deluxe Kick & Play Piano Gym',\n",
    "    'Fisher-Price - First Steps Jumperoo',\n",
    "    'Fisher-Price - Go Wild Jumperoo Activity Centers',\n",
    "    'Fisher-Price - Kick & Play Piano Gym',\n",
    "    \"Fisher-Price - Laugh & Learn Puppy's Plane Ride\",\n",
    "    'Fisher-Price - Laugh and Learn Jumperoo',\n",
    "    \"Fisher-Price - Little Superstar Step N' Play Piano\",\n",
    "    'Fisher-Price - Luv U Zoo Jumperoo',\n",
    "    'Fisher-Price - Newborn Grow With Me Gym',\n",
    "    'Fisher-Price - Ocean Wonders Jumperoo',\n",
    "    'Fisher-Price - Precious Planet Deluxe Activity Gym',\n",
    "    'Fisher-Price - Precious Planet Khaki Sands Jumperoo',\n",
    "    'Fisher-Price - Rainforest Friends Musical Activity Gym',\n",
    "    'Fisher-Price - Rainforest Friends Space Saver Jumperoo',\n",
    "    'Fisher-Price - Rainforest Jumperoo',\n",
    "    'Grow ‘n Up - 2-in-1 Slide to Rocker',\n",
    "    'Grow ‘n Up - 6 in 1 Slide & Sport Station',\n",
    "    'Grow ‘n Up - First Steps Scramble N Slide Set',\n",
    "    'Grow ‘n Up - Qwikfold Fun Slide',\n",
    "    'Grow ‘n Up - Qwikfold Maxi Slide',\n",
    "    \"Grow ‘n Up - Scramble 'N Slide Play Center\",\n",
    "    'Intex - Lazy Fish Baby Shade Pool',\n",
    "    'Kids - Slide and Swing 4 in 1',\n",
    "    \"L'abeille - 3in1 Bunny Play & Grow Activity (KC-526 C)\",\n",
    "    \"L'abeille - Dream House with Elephant Slide (KC-881 TC+512)\",\n",
    "    \"L'abeille - Froggy 2in1 Slide & Rocker (KC-501)\",\n",
    "    \"L'abeille - Rocking Horse (KC-008)\",\n",
    "    'Little Tikes - 5-in-1 Adjustable Gym',\n",
    "    'Little Tikes - Activity Garden Treehouse',\n",
    "    'Little Tikes - Activity GardenTM',\n",
    "    'Little Tikes - Easy Store Large Play Slide',\n",
    "    'Little Tikes - LT Rocking Horse',\n",
    "    'Little Tikes - Musical Ocean 3-in-1 Gym',\n",
    "    'Little Tikes - Trampoline LT',\n",
    "    'Oball - Bounce-O-Bunch Activity Center™',\n",
    "    'Parklon - Slide',\n",
    "    'Parklon - Slide 3 in 1',\n",
    "    'Parklon - Slide 5 in 1',\n",
    "    'Plum - Junior Trampoline and Enclosure 4.5ft',\n",
    "    'Plum - Junior Trampoline and Enclosure 6ft',\n",
    "    'Soleil - Trampoline',\n",
    "    'Step2 - All-Star Sports Climber',\n",
    "    'Step2 - Kangaroo Climber',\n",
    "    'Tobebe - Big Happy Playhouse Without Slide',\n",
    "    'Tobebe - Big Happy Playhouse with Slide',\n",
    "    'Weplay - Rocking Bowl',\n",
    "    'Weplay - Whally Board',\n",
    "    'Yobee - Portable Soccer Gate',\n",
    "    'Happy Hop - Adventure Combo Jumping Castle',\n",
    "]\n",
    "\n",
    "data.loc[data.Sewa_Item.isin(activities_list), 'Item_Category'] = 'Activity'"
   ]
  },
  {
   "cell_type": "code",
   "execution_count": 23,
   "metadata": {
    "ExecuteTime": {
     "end_time": "2020-04-05T18:51:22.405830Z",
     "start_time": "2020-04-05T18:51:22.371214Z"
    }
   },
   "outputs": [],
   "source": [
    "# Grouping Play_area, includes walker, playmats, playhouse, fence (on the floor)\n",
    "play_area = [\n",
    "    '3DuPlay - Playmat Large',\n",
    "    '3DuPlay - Playmat Small',\n",
    "    'Baby Dan - Safety Gates Park-A-Kid',\n",
    "    'Babybranded - Babybranded Playmat',\n",
    "    'Babybranded - Playmat + Bumper',\n",
    "    'Bright Starts - Tummy Cruiser Prop and Play Mat',\n",
    "    'Ching Ching - Play Pen',\n",
    "    'Ching Ching - Play Yard (PY-01)',\n",
    "    'Coby Haus - Play Mat',\n",
    "    'Coby Haus - Safety Play Fence 10+2',\n",
    "    'Coby Haus - Safety Play Fence 12 + 2',\n",
    "    'Coby Haus - Safety Play Fence 16+2',\n",
    "    'Coby Haus - Safety Play Fence 8 + 2',\n",
    "    'Coby Haus - Starlight Folding Fence 12+2',\n",
    "    'Comflor - Comflor Playmat',\n",
    "    'Dfang - Playmat',\n",
    "    'Dwinguler - Playmat',\n",
    "    'ELC - Baby Percussion Mat',\n",
    "    'ELC - Blossom Farm Clover Cow Sit Me Up Cosy',\n",
    "    'ELC - Blossom Farm Laurie Lamb Snuggle Playmat and Gym',\n",
    "    'ELC - Blossom Farm Pete Pony Sit Me Up Cosy',\n",
    "    'Eduplay - Baby Bear Zone Playard',\n",
    "    'Foldaway - Bumper Standard Mat',\n",
    "    'Foldaway - Bumper Wide Mat',\n",
    "    'Foldaway - Bumper Wide Mat & Playhouse Set',\n",
    "    'Foldaway - Coba Sebelum Membeli : Bumper Standard Mat',\n",
    "    'Foldaway - PVC GRAND',\n",
    "    'Foldaway - PVC STANDARD',\n",
    "    'Foldaway - Skin Mat Standard',\n",
    "    'Foldaway - Standard Playmat',\n",
    "    'Haenim - Toy Little Playzone',\n",
    "    'Ibebe - Playroom',\n",
    "    'Ifam - Forest Playpen',\n",
    "    'Intex - Soft Sides Inflatable Baby and Kids Playground',\n",
    "    'Kiddyfun - Dance Mixer Playmat',\n",
    "    \"L'abeille - Bambi Fence with Elephant Slide (KC-213 + KC-512)\",\n",
    "    \"L'abeille - Ocean Fence with Flipper Slide (KC-216 + KC-511)\",\n",
    "    'Lamaze - Take & Tidy Playmat',\n",
    "    'Lumba  - Playmat & Bumper (1.5 x 1m)',\n",
    "    'Lumba - Play Mat',\n",
    "    'Lumba - Playmat & Bumper (1.2 m x 1.2 m)',\n",
    "    'Lumba - Playmat & Bumper (2 x 1.5 x 1.5m)',\n",
    "    'Mothercare - Baby Ocean Playmat',\n",
    "    'Parklon - Parklon Playmat',\n",
    "    'Parklon - Playmat & Bumper',\n",
    "    'Playgro - 3in1 Safari Gym',\n",
    "    'Playgro - Dino Gym',\n",
    "    'Playgro - Fairy Gym',\n",
    "    'Skip Hop - Playspot Geo',\n",
    "    'Summer Infant - Pop & Play Playard',\n",
    "    'Valco - VeeBee 6-Sided Playard'\n",
    "]\n",
    "\n",
    "data.loc[data.Sewa_Item.isin(play_area), 'Item_Category'] = 'Playmat'"
   ]
  },
  {
   "cell_type": "code",
   "execution_count": 24,
   "metadata": {
    "ExecuteTime": {
     "end_time": "2020-04-05T18:51:22.790845Z",
     "start_time": "2020-04-05T18:51:22.754888Z"
    }
   },
   "outputs": [],
   "source": [
    "# Grouping movers, include walkers, bikes, cars, scooters\n",
    "movers_list = [\n",
    "    'Alfrex - Sepeda Roda 3',\n",
    "    'Bright Starts - Sit to Stride Activity Walker',\n",
    "    'Chicco - Baby Activity Walker',\n",
    "    'D-Bike - Mini',\n",
    "    'ELC - 2in1 Trike to Scooter',\n",
    "    'ELC - Hop Along',\n",
    "    'ELC - Light and Sound Walker',\n",
    "    'ELC - Ride On Quad Bike',\n",
    "    'ELC - Ride and Glide Scooter',\n",
    "    'ELC - Stripy Toddler Skates',\n",
    "    'ELC - Wobble Toddle Ride On (tanpa shapes)',\n",
    "    'ELC - Wooden Trike and Trailer',\n",
    "    'EzyRoller - Ultimate Riding Machine',\n",
    "    'Iimo - Tricycle 1',\n",
    "    'Iimo - Tricycle 2',\n",
    "    'Iimo - Tricycle 2 (Tanpa Klakson)',\n",
    "    'Junior - Mobil Aki BMW Mini Cooper S Series [Tanpa Remote]',\n",
    "    'Kettler - Speedy 12.5\" Balance Bike',\n",
    "    'Kiddieland - Disney Frozen Magical Adventure Activity Ride-On',\n",
    "    'Kiddieland - Push Car Lightning Mcqueen',\n",
    "    'Kiddieland - Thomas the Tank Engine Activity Ride On',\n",
    "    'Little Tikes  - Rescue Fire Truck (tanpa selang)',\n",
    "    'Little Tikes - 4 in 1 Trike Primary',\n",
    "    'Little Tikes - Cozy Coupe 30th Anniversary Car',\n",
    "    'Little Tikes - Cozy Coupe 30th Anniversary Tikes Patrol Ride-On',\n",
    "    'Little Tikes - Cozy Coupe Cab',\n",
    "    'Little Tikes - Cozy Coupe Push Car',\n",
    "    'Little Tikes - Cozy Coupe Sport',\n",
    "    'Little Tikes - Cozy Truck',\n",
    "    'Little Tikes - Go & Grow Lil Rollin Giraffe Ride-On',\n",
    "    \"Little Tikes - Hop 'n Scoot ATV Ride-On\",\n",
    "    'Little Tikes - Learn to Pedal 3-in-1 Trike',\n",
    "    'Little Tikes - Light and Go 3in1 Activity Walker',\n",
    "    'Little Tikes - Play n Scoot Pirate Ship',\n",
    "    'Little Tikes - Police Patrol Car',\n",
    "    'Little Tikes - Princess Cozy Coupe 30th Anniversary Car',\n",
    "    \"Little Tikes - Spray 'n Rescue Fire Truck\",\n",
    "    'London Taxi - Kickbike',\n",
    "    'London Taxi - Tricycle',\n",
    "    'Micro - Maxi Micro Deluxe',\n",
    "    'Micro - Mini2Go',\n",
    "    'Micro - Trike',\n",
    "    'Micro - Trike Deluxe',\n",
    "    'Mobil Aki - Mercedes-Benz SL65 AMG',\n",
    "    'Mobil Aki - Range Rover Evoque',\n",
    "    'Motor Elektrik - Sport',\n",
    "    \"Playgro - Jerry's Class Step By Step Music and Lights Puppy Walker\",\n",
    "    \"Playskool - Walk 'N Ride\",\n",
    "    'Pliko - Deluxe Mega Car',\n",
    "    'Pliko - F1 Molenar 3 in 1 Ride On',\n",
    "    'Pliko - Mobil Aki Pliko Audi Quattro Sport',\n",
    "    'SHP Toys - Scooter 609',\n",
    "    'Skoot - Ride-On & Luggage In One',\n",
    "    'Smart Trike - 4-in-1',\n",
    "    'Smart Trike - Go',\n",
    "    'Smart Trike - Splash',\n",
    "    'Step2 - Motorcycle',\n",
    "    'Strider Bikes - Strider 12 Sport Balance Bike',\n",
    "    'Tayo - Classic Ride On Bus',\n",
    "    'Thrill - Push Bike 12\"',\n",
    "    'Trunki - Trunki',\n",
    "    'United - Aero Bicycle',\n",
    "    'VTech - 2-in-1 Trike To Bike',\n",
    "    'VTech - Grow n Go Walker',\n",
    "    'VTech - Ride and Learn Giraffe Bike',\n",
    "    'WeeRide - Learn 2 Ride 10” Balance Bike',\n",
    "    'Weina - Roadster Ride On Deluxe',\n",
    "    'Winfun - Grow With Me Musical Walker',\n",
    "    'Yaya - Tayo the Little Bus Car',\n",
    "    'Fisher-Price - Infant Step & Ride Lion',\n",
    "    'Fisher-Price - Learn With Me Zebra Walker',\n",
    "    'Fisher-Price - Musical Lion Walker',\n",
    "    'Fisher-Price - Walker To Wagon',\n",
    "    'VTech - Sit to Stand Alphabet Train'\n",
    "]\n",
    "\n",
    "data.loc[data.Sewa_Item.isin(movers_list), 'Item_Category'] = 'Mover'"
   ]
  },
  {
   "cell_type": "code",
   "execution_count": 25,
   "metadata": {
    "ExecuteTime": {
     "end_time": "2020-04-05T18:51:23.304156Z",
     "start_time": "2020-04-05T18:51:23.270275Z"
    }
   },
   "outputs": [],
   "source": [
    "# Grouping items for moms and prenatal\n",
    "moms_list = [\n",
    "    'Babyplus - Prenatal Education System',\n",
    "    'Bellefit - Dual-Closure Girdle',\n",
    "    'Bellefit - Girdle Pull Up',\n",
    "    'Belly Bandit - BFF',\n",
    "    'Belly Bandit - Bamboo',\n",
    "    'Belly Bandit - Original',\n",
    "    'Haenim - 7s Bluetooth Breastpump',\n",
    "    'Mamaway - Bamboo Corset',\n",
    "    'Maternity and Nursing Pillow - Maternity and Nursing Pillow',\n",
    "    'Medela - Freestyle',\n",
    "    'Medela - Harmony Lite',\n",
    "    'Medela - Swing',\n",
    "    'Mothercare - Postpartum Support Pillow',\n",
    "    'My Brest Friend - 3-in-1 Body Pillow',\n",
    "    'My Brest Friend - My Brest Friend',\n",
    "    'Philips - Avent Manual Breast Pump SCF330/20',\n",
    "    'Pigeon - Manual Breast Pump',\n",
    "    'Spectra - 9+ Rechargeable Breast Pump',\n",
    "    'Spectra - S1 Plus Breast Pump',\n",
    "    'The UnbornHeart - Fetal Doppler',\n",
    "    'Theraline - Cushion Maternity and Nursing Pillow',\n",
    "    'Vespa and the Ladybird - Post Pregnancy Belly Wrap Classic',\n",
    "    'Wav Hello - Bellybuds'\n",
    "]\n",
    "\n",
    "data.loc[data.Sewa_Item.isin(moms_list), 'Item_Category'] = 'Moms'"
   ]
  },
  {
   "cell_type": "code",
   "execution_count": 26,
   "metadata": {
    "ExecuteTime": {
     "end_time": "2020-04-05T18:51:23.909177Z",
     "start_time": "2020-04-05T18:51:23.870679Z"
    }
   },
   "outputs": [],
   "source": [
    "# Grouping Others \n",
    "\n",
    "others_list = [\n",
    "    'Ador Alby - Teepee Tent',\n",
    "    'Aiboully - Inflatable Kids Swimming Ring',\n",
    "    'Androktones - Animal Costumes',\n",
    "    'Aprica - Baby Bath Chair',\n",
    "    'Aqua Scale - 3in1 Digital Scale',\n",
    "    'Baby Shusher - The Soothing Sleep Miracle for Babies',\n",
    "    'BabyGap - Sleepsuit Winter',\n",
    "    'Babymoov - Nutribaby Food Processor',\n",
    "    'Banz - Mini Earmuff',\n",
    "    'Beaba - 3 in 1 Bib Expresso',\n",
    "    'Beaba - Babycook Original',\n",
    "    'Beaba - Babycook Original Plus',\n",
    "    'Beaba - Babycook Solo',\n",
    "    'Beaba - Babycook Solo + Rice Cooker',\n",
    "    'Beaba - Babycook Travel Bag',\n",
    "    'Bontoy - Traveller Lugagge Ride On Toys',\n",
    "    'Boon - Fresh Baby Changing Station',\n",
    "    'Boon - Naked 2-Position Collapsible Baby Bathtub',\n",
    "    'Bright Starts - Ingenuity Perfect Place',\n",
    "    'Bumbo - Multi Seat With Play Tray',\n",
    "    'Bumbo - Seat With Table Companion',\n",
    "    'Bumbo - Seat with Tray',\n",
    "    'Care Baby - Baby Box',\n",
    "    'Catimini - Navy Long Padded Coat',\n",
    "    'Chicco - Natural Steam Cooker',\n",
    "    'Chicco - PocketSnack Booster Seat',\n",
    "    'Chicco - Polly 2-in-1 High Chair',\n",
    "    \"Claire's - UV Sterilizer\",\n",
    "    'Cocolatte - CL280 Papiwi High Chair',\n",
    "    'Cocolatte - CL512 High Chair',\n",
    "    'Cocolatte - High Chair',\n",
    "    'Combi - Roanju High Chair LY/DB',\n",
    "    'Cosatto - Easi Peasi Changer',\n",
    "    'Disney Baby - 2in1 Multi Function Slow Cooker',\n",
    "    'Duux - Air Purifier',\n",
    "    'Duux - Humidifier',\n",
    "    'ELC - Study Desk Chair',\n",
    "    \"EM's - 4 Bubs Earmuff\",\n",
    "    \"EM's - 4 Kids Earmuff\",\n",
    "    'Ecomom - Sterilizer',\n",
    "    'Fisher-Price - Discover and Grow Busy Baby Booster',\n",
    "    'Fisher-Price - Grow with Me High Chair',\n",
    "    'Fisher-Price - Space Saver High Chair',\n",
    "    'Foldaway - Cube Sofa',\n",
    "    'Graco - Tea Time High Chair',\n",
    "    'Gro - Hush',\n",
    "    'Haenim - UV Sterilizer',\n",
    "    'Handmade Lace and Linen - Christening Gown',\n",
    "    'IKEA - Antilop High Chair',\n",
    "    'Informa - Baby High Chair',\n",
    "    'Ingenuity - Trio 3-in-1 High Chair',\n",
    "    'Ingenuity - Baby Base 2-in-1 Booster Seat',\n",
    "    'Intime - Baby Spa',\n",
    "    'Jellymom - Baby First Seat',\n",
    "    'Joie - Mimzy 360',\n",
    "    'Joie - Mimzy Snacker 123',\n",
    "    'Karibu - Folding Bath',\n",
    "    'Kooshy Kids - Kooshion',\n",
    "    'Laica - Baby Scale PS 3004',\n",
    "    'Laica - Digital Scale BF2051',\n",
    "    'Mamalove - High Chair',\n",
    "    'Mamas Papas - Baby Bud with Play Tray',\n",
    "    'Mamas Papas - Baby Snug and Activity Play Tray',\n",
    "    'Mastela - Booster to Toddler Seat',\n",
    "    'Mastela - Folding Booster Seat',\n",
    "    'Mothercare - 2in1 Rotating Floor Seat',\n",
    "    'Mothercare - Baby Bath and Stand',\n",
    "    'Mothercare - High Chair - Butterfly',\n",
    "    'Mothercare - Highchair - Pears',\n",
    "    'Moyeeka - Full Face Snorkel Mask Kids',\n",
    "    'My Little Seat - Travel HighChair',\n",
    "    'Nuna - Zaaz',\n",
    "    'Obebe - Electric 4 in 1 Steaming Centre',\n",
    "    'Ottersgood - Egg Shaped Bathtub',\n",
    "    \"Panasonic - D'sterile Dish Dryers\",\n",
    "    'Peg Perego - Prima Pappa Diner',\n",
    "    'Peg Perego - Prima Pappa Duplo',\n",
    "    'Peg Perego - Prima Pappa Zero3 Highchair',\n",
    "    'Peg Perego - Siesta High Chair',\n",
    "    'Peg Perego - Tatamia High Chair',\n",
    "    'Philips - Avent 3in1 Sterilizer',\n",
    "    'Philips - Avent Electric Bottle and Baby Food Warmer SCF255/54',\n",
    "    'Philips - Avent Steamer Blender',\n",
    "    'Plane Pal - Inflatable Travel Pillow',\n",
    "    'Pliko - Baby Tafel HY 11',\n",
    "    'Pliko - Deluxe Comfort Folding Booster Seat',\n",
    "    'Prince Lionheart - Bebe POD Flex Plus',\n",
    "    'Puku - Baby Bath with Stand',\n",
    "    'Puku - Bak Mandi Original XL',\n",
    "    'Richell - Inflatable Soft Baby Bath Tub',\n",
    "    'Rotho - Babydesign Top Bathtub & Stand',\n",
    "    'Rotho - Babydesign Top Bathtub with Newborn Support & Stand',\n",
    "    'Safety - Perfect Fit Dual-Mode Gate',\n",
    "    'Snowboard Melbourne - Baby Snowsuit',\n",
    "    \"Speedo - Girl's Sea Squad Swim Vest\",\n",
    "    'Stokke - Flexibath',\n",
    "    'Stokke - Flexibath Newborn Bath Support',\n",
    "    'Stokke - Tripp Trapp Baby Set (Without Chair)',\n",
    "    'Stokke - Tripp Trapp High Chair',\n",
    "    'Stokke - Tripp Trapp Newborn Set',\n",
    "    'Summer Infant - 3-Stage SuperSeat',\n",
    "    'Summer Infant - Foldaway Baby Bath',\n",
    "    'Summer Infant - Sure & Secure Folded Single Bedrail',\n",
    "    'Swimava - Compact Home Baby Spa with Starter Ring',\n",
    "    'Swimava - Deluxe Home Baby Spa with Starter Ring',\n",
    "    'Tommee Tippee - Closer to Nature Electric Bottle and Food Warmer',\n",
    "    'Tommee Tippee - Closer to Nature Electric Steam Sterilizer',\n",
    "    'Tortle - Tortle',\n",
    "    'Twomother - Single Bed Rail',\n",
    "    'Upang - Plus UV Sterilizer',\n",
    "    'Vilead - Vilead Inflatable Kids Swimming Ring',\n",
    "    'Weeler - Trio 3in1 High Chair',\n",
    "    'Yamatoya - Nico Folding High Chair',\n",
    "    'Yamatoya - Sukusuku',\n",
    "    'Zoggs - Bb Jacket Adjustable',\n",
    "    'Zoggs - Trainer Seat'\n",
    "]\n",
    "\n",
    "data.loc[data.Sewa_Item.isin(others_list), 'Item_Category'] = 'Other'"
   ]
  },
  {
   "cell_type": "code",
   "execution_count": 27,
   "metadata": {
    "ExecuteTime": {
     "end_time": "2020-04-05T18:51:24.893107Z",
     "start_time": "2020-04-05T18:51:24.868082Z"
    },
    "scrolled": true
   },
   "outputs": [
    {
     "name": "stdout",
     "output_type": "stream",
     "text": [
      "<class 'pandas.core.frame.DataFrame'>\n",
      "Int64Index: 34822 entries, 0 to 34854\n",
      "Data columns (total 15 columns):\n",
      "Tanggal_Pesanan     34822 non-null object\n",
      "Nomor               34822 non-null object\n",
      "Komponen_Biaya      34822 non-null object\n",
      "Harga               34822 non-null object\n",
      "Kode_Unit           18062 non-null object\n",
      "Mulai_Sewa          18062 non-null object\n",
      "Selesai_Sewa        18062 non-null object\n",
      "Durasi_(hari)       18062 non-null object\n",
      "Nama_Pelanggan      18062 non-null object\n",
      "Pemilik_Unit        18058 non-null object\n",
      "Skema_Bagi_Hasil    18020 non-null object\n",
      "Sewa_per_hari       18062 non-null object\n",
      "Item_Group          34822 non-null object\n",
      "Sewa_Item           18057 non-null object\n",
      "Item_Category       18057 non-null object\n",
      "dtypes: object(15)\n",
      "memory usage: 5.5+ MB\n"
     ]
    }
   ],
   "source": [
    "data.info()"
   ]
  },
  {
   "cell_type": "code",
   "execution_count": 28,
   "metadata": {
    "ExecuteTime": {
     "end_time": "2020-04-05T18:51:27.998459Z",
     "start_time": "2020-04-05T18:51:27.987678Z"
    }
   },
   "outputs": [],
   "source": [
    "data = data.loc[data.Tanggal_Pesanan != 'Cuci Stroller - Stroller dan Carseat']"
   ]
  },
  {
   "cell_type": "code",
   "execution_count": 29,
   "metadata": {
    "ExecuteTime": {
     "end_time": "2020-04-05T18:51:29.733719Z",
     "start_time": "2020-04-05T18:51:28.614161Z"
    }
   },
   "outputs": [
    {
     "name": "stdout",
     "output_type": "stream",
     "text": [
      "<class 'pandas.core.frame.DataFrame'>\n",
      "Int64Index: 34821 entries, 0 to 34854\n",
      "Data columns (total 18 columns):\n",
      "Tanggal_Pesanan     34821 non-null datetime64[ns]\n",
      "Nomor               34821 non-null object\n",
      "Komponen_Biaya      34821 non-null object\n",
      "Harga               34821 non-null float64\n",
      "Kode_Unit           18061 non-null object\n",
      "Mulai_Sewa          18061 non-null datetime64[ns]\n",
      "Selesai_Sewa        18061 non-null datetime64[ns]\n",
      "Durasi_(hari)       18061 non-null float64\n",
      "Nama_Pelanggan      18061 non-null object\n",
      "Pemilik_Unit        18057 non-null object\n",
      "Skema_Bagi_Hasil    18019 non-null object\n",
      "Sewa_per_hari       18061 non-null float64\n",
      "Item_Group          34821 non-null object\n",
      "Sewa_Item           18057 non-null object\n",
      "Item_Category       18057 non-null object\n",
      "Tahun               18061 non-null float64\n",
      "Bulan               18061 non-null float64\n",
      "Bulan_Tahun         18061 non-null period[M]\n",
      "dtypes: datetime64[ns](3), float64(5), object(9), period[M](1)\n",
      "memory usage: 5.0+ MB\n"
     ]
    }
   ],
   "source": [
    "data.Tanggal_Pesanan = pd.to_datetime(data['Tanggal_Pesanan'])\n",
    "data.Mulai_Sewa = pd.to_datetime(data['Mulai_Sewa'])\n",
    "data.Selesai_Sewa = pd.to_datetime(data['Selesai_Sewa'])\n",
    "\n",
    "data[['Harga', 'Durasi_(hari)', 'Sewa_per_hari']] = data[['Harga', 'Durasi_(hari)', 'Sewa_per_hari']].apply(pd.to_numeric)\n",
    "data['Tahun'] = data.Mulai_Sewa.dt.year\n",
    "data['Bulan'] = data.Mulai_Sewa.dt.month\n",
    "data['Bulan_Tahun'] = data[\"Mulai_Sewa\"].dt.to_period('M')\n",
    "\n",
    "data.to_csv('data_clean', index=False)\n",
    "\n",
    "data.info()"
   ]
  },
  {
   "cell_type": "code",
   "execution_count": 30,
   "metadata": {
    "ExecuteTime": {
     "end_time": "2020-04-05T18:51:38.419903Z",
     "start_time": "2020-04-05T18:51:38.410886Z"
    }
   },
   "outputs": [],
   "source": [
    "sewa = data.loc[(data.Item_Category.notnull()) & (data['Durasi_(hari)']>0)]"
   ]
  },
  {
   "cell_type": "code",
   "execution_count": 31,
   "metadata": {
    "ExecuteTime": {
     "end_time": "2020-04-05T18:51:39.164742Z",
     "start_time": "2020-04-05T18:51:39.150150Z"
    },
    "scrolled": true
   },
   "outputs": [
    {
     "name": "stdout",
     "output_type": "stream",
     "text": [
      "<class 'pandas.core.frame.DataFrame'>\n",
      "Int64Index: 18043 entries, 0 to 34853\n",
      "Data columns (total 18 columns):\n",
      "Tanggal_Pesanan     18043 non-null datetime64[ns]\n",
      "Nomor               18043 non-null object\n",
      "Komponen_Biaya      18043 non-null object\n",
      "Harga               18043 non-null float64\n",
      "Kode_Unit           18043 non-null object\n",
      "Mulai_Sewa          18043 non-null datetime64[ns]\n",
      "Selesai_Sewa        18043 non-null datetime64[ns]\n",
      "Durasi_(hari)       18043 non-null float64\n",
      "Nama_Pelanggan      18043 non-null object\n",
      "Pemilik_Unit        18042 non-null object\n",
      "Skema_Bagi_Hasil    18005 non-null object\n",
      "Sewa_per_hari       18043 non-null float64\n",
      "Item_Group          18043 non-null object\n",
      "Sewa_Item           18043 non-null object\n",
      "Item_Category       18043 non-null object\n",
      "Tahun               18043 non-null float64\n",
      "Bulan               18043 non-null float64\n",
      "Bulan_Tahun         18043 non-null period[M]\n",
      "dtypes: datetime64[ns](3), float64(5), object(9), period[M](1)\n",
      "memory usage: 2.6+ MB\n"
     ]
    }
   ],
   "source": [
    "sewa.info()"
   ]
  },
  {
   "cell_type": "code",
   "execution_count": 32,
   "metadata": {
    "ExecuteTime": {
     "end_time": "2020-04-05T18:51:42.357868Z",
     "start_time": "2020-04-05T18:51:42.352121Z"
    }
   },
   "outputs": [
    {
     "data": {
      "text/plain": [
       "2019.0    6868\n",
       "2018.0    6742\n",
       "2017.0    3837\n",
       "2020.0     596\n",
       "Name: Tahun, dtype: int64"
      ]
     },
     "execution_count": 32,
     "metadata": {},
     "output_type": "execute_result"
    }
   ],
   "source": [
    "sewa.Tahun.value_counts()"
   ]
  },
  {
   "cell_type": "code",
   "execution_count": 33,
   "metadata": {
    "ExecuteTime": {
     "end_time": "2020-04-05T18:51:44.312869Z",
     "start_time": "2020-04-05T18:51:44.306614Z"
    }
   },
   "outputs": [],
   "source": [
    "sewa_fokus = sewa.loc[sewa.Tahun.isin([2018,2019])]"
   ]
  },
  {
   "cell_type": "markdown",
   "metadata": {},
   "source": [
    "## Trend Sewa "
   ]
  },
  {
   "cell_type": "markdown",
   "metadata": {},
   "source": [
    "### Berdasarkan nomor transaksi (bukan item disewa)"
   ]
  },
  {
   "cell_type": "code",
   "execution_count": 34,
   "metadata": {
    "ExecuteTime": {
     "end_time": "2020-04-05T18:51:48.462704Z",
     "start_time": "2020-04-05T18:51:48.236559Z"
    },
    "scrolled": true
   },
   "outputs": [
    {
     "data": {
      "image/png": "[encoded data removed]",
      "text/plain": [
       "<Figure size 432x288 with 1 Axes>"
      ]
     },
     "metadata": {
      "needs_background": "light"
     },
     "output_type": "display_data"
    }
   ],
   "source": [
    "\n",
    "\n",
    "by_num = sewa_fokus.groupby(['Nomor','Bulan_Tahun']).agg({'Harga':'sum',\n",
    "                                                       'Durasi_(hari)':'mean',\n",
    "                                                       'Sewa_per_hari':'sum',\n",
    "                                                       'Tahun':'mean'}).reset_index()\n",
    "\n",
    "\n",
    "by_num.groupby(\"Bulan_Tahun\")['Nomor'].count().plot(kind='bar');\n"
   ]
  },
  {
   "cell_type": "code",
   "execution_count": 35,
   "metadata": {
    "ExecuteTime": {
     "end_time": "2020-04-05T18:51:55.702085Z",
     "start_time": "2020-04-05T18:51:55.493332Z"
    },
    "scrolled": false
   },
   "outputs": [
    {
     "data": {
      "image/png": "[encoded data removed]",
      "text/plain": [
       "<Figure size 432x288 with 1 Axes>"
      ]
     },
     "metadata": {
      "needs_background": "light"
     },
     "output_type": "display_data"
    }
   ],
   "source": [
    "by_num.groupby(\"Bulan_Tahun\")['Harga'].median().plot(kind='bar');"
   ]
  },
  {
   "cell_type": "code",
   "execution_count": 36,
   "metadata": {
    "ExecuteTime": {
     "end_time": "2020-04-05T18:52:11.399443Z",
     "start_time": "2020-04-05T18:52:11.194041Z"
    },
    "scrolled": false
   },
   "outputs": [
    {
     "data": {
      "image/png": "[encoded data removed]",
      "text/plain": [
       "<Figure size 432x288 with 1 Axes>"
      ]
     },
     "metadata": {
      "needs_background": "light"
     },
     "output_type": "display_data"
    }
   ],
   "source": [
    "by_num.groupby(\"Bulan_Tahun\")['Durasi_(hari)'].mean().plot(kind='bar');"
   ]
  },
  {
   "cell_type": "code",
   "execution_count": 37,
   "metadata": {
    "ExecuteTime": {
     "end_time": "2020-04-05T18:52:18.554223Z",
     "start_time": "2020-04-05T18:52:18.548174Z"
    },
    "scrolled": false
   },
   "outputs": [
    {
     "data": {
      "text/plain": [
       "Tahun\n",
       "2018.0    31.961425\n",
       "2019.0    33.158952\n",
       "Name: Durasi_(hari), dtype: float64"
      ]
     },
     "execution_count": 37,
     "metadata": {},
     "output_type": "execute_result"
    }
   ],
   "source": [
    "by_num.groupby(\"Tahun\")['Durasi_(hari)'].mean()"
   ]
  },
  {
   "cell_type": "markdown",
   "metadata": {},
   "source": [
    "### Berdasarkan barang disewa"
   ]
  },
  {
   "cell_type": "code",
   "execution_count": 38,
   "metadata": {
    "ExecuteTime": {
     "end_time": "2020-04-05T18:52:24.627462Z",
     "start_time": "2020-04-05T18:52:24.618283Z"
    },
    "scrolled": true
   },
   "outputs": [
    {
     "data": {
      "text/plain": [
       "Activity    0.203649\n",
       "Stroller    0.140463\n",
       "Other       0.134381\n",
       "Crib        0.090329\n",
       "Mover       0.083210\n",
       "Playmat     0.073124\n",
       "Rocker      0.072382\n",
       "Car_Seat    0.060220\n",
       "Toy         0.059033\n",
       "Carrier     0.058588\n",
       "Name: Item_Category, dtype: float64"
      ]
     },
     "execution_count": 38,
     "metadata": {},
     "output_type": "execute_result"
    }
   ],
   "source": [
    "sewa_fokus.loc[sewa_fokus.Tahun==2018]['Item_Category'].value_counts(normalize=True)[:10]"
   ]
  },
  {
   "cell_type": "code",
   "execution_count": 39,
   "metadata": {
    "ExecuteTime": {
     "end_time": "2020-04-05T18:52:36.973374Z",
     "start_time": "2020-04-05T18:52:36.964538Z"
    }
   },
   "outputs": [
    {
     "data": {
      "text/plain": [
       "Activity    0.195545\n",
       "Other       0.146768\n",
       "Stroller    0.137595\n",
       "Crib        0.093623\n",
       "Playmat     0.091584\n",
       "Mover       0.076587\n",
       "Car_Seat    0.073238\n",
       "Rocker      0.069307\n",
       "Toy         0.046447\n",
       "Carrier     0.045865\n",
       "Name: Item_Category, dtype: float64"
      ]
     },
     "execution_count": 39,
     "metadata": {},
     "output_type": "execute_result"
    }
   ],
   "source": [
    "sewa_fokus.loc[sewa_fokus.Tahun==2019]['Item_Category'].value_counts(normalize=True)[:10]"
   ]
  },
  {
   "cell_type": "code",
   "execution_count": 108,
   "metadata": {
    "ExecuteTime": {
     "end_time": "2020-04-05T20:28:48.840032Z",
     "start_time": "2020-04-05T20:28:48.528599Z"
    },
    "scrolled": true
   },
   "outputs": [
    {
     "data": {
      "image/png": "[encoded data removed]",
      "text/plain": [
       "<Figure size 864x576 with 1 Axes>"
      ]
     },
     "metadata": {
      "needs_background": "light"
     },
     "output_type": "display_data"
    }
   ],
   "source": [
    "sewa_crosstab_bt = pd.crosstab(sewa.Bulan_Tahun, sewa.Item_Category, values=sewa.Harga, aggfunc='count')[:-3]\n",
    "\n",
    "# list_bulan_tahun = list(sewa_crosstab_bt['Bulan_Tahun'].astype('str'))\n",
    "\n",
    "ax = sewa_crosstab_bt[['Stroller','Carrier','Car_Seat']].plot(figsize=(12,8))\n",
    "ax.grid(which='both',axis='x')\n",
    "plt.title('Jumlah barang disewa')\n",
    "plt.savefig('Item_number_bulan_tahun_strollercarriercarseat.jpg')\n",
    "\n",
    "plt.show();"
   ]
  },
  {
   "cell_type": "code",
   "execution_count": 110,
   "metadata": {
    "ExecuteTime": {
     "end_time": "2020-04-05T20:39:25.677074Z",
     "start_time": "2020-04-05T20:39:25.375403Z"
    }
   },
   "outputs": [
    {
     "data": {
      "image/png": "[encoded data removed]",
      "text/plain": [
       "<Figure size 864x576 with 1 Axes>"
      ]
     },
     "metadata": {
      "needs_background": "light"
     },
     "output_type": "display_data"
    }
   ],
   "source": [
    "ax = sewa_crosstab_bt[['Activity', 'Toy']].plot(figsize=(12,8))\n",
    "ax.grid(which='both',axis='x')\n",
    "plt.title('Jumlah barang disewa')\n",
    "plt.savefig('Item_number_bulan_tahun_strollercarriercarseat.jpg')\n",
    "\n",
    "plt.show();"
   ]
  },
  {
   "cell_type": "code",
   "execution_count": 74,
   "metadata": {
    "ExecuteTime": {
     "end_time": "2020-04-05T19:31:24.113649Z",
     "start_time": "2020-04-05T19:31:23.906094Z"
    },
    "scrolled": true
   },
   "outputs": [
    {
     "data": {
      "image/png": "[encoded data removed]",
      "text/plain": [
       "<Figure size 864x576 with 1 Axes>"
      ]
     },
     "metadata": {
      "needs_background": "light"
     },
     "output_type": "display_data"
    }
   ],
   "source": [
    "import calendar \n",
    "\n",
    "sewa_crosstab_b = pd.crosstab(sewa.Bulan, sewa.Item_Category, values=sewa.Harga, aggfunc='count')\n",
    "# sewa_crosstab\n",
    "\n",
    "ax = sewa_crosstab_b[['Stroller','Carrier','Car_Seat']].plot(figsize=(12,8))\n",
    "ax.grid(which='both',axis='x')\n",
    "plt.xticks(np.arange(1,13), calendar.month_name[1:13], rotation=20)\n",
    "plt.title('Jumlah barang disewa');"
   ]
  },
  {
   "cell_type": "code",
   "execution_count": 75,
   "metadata": {
    "ExecuteTime": {
     "end_time": "2020-04-05T19:32:07.452976Z",
     "start_time": "2020-04-05T19:32:07.248250Z"
    }
   },
   "outputs": [
    {
     "data": {
      "image/png": "[encoded data removed]",
      "text/plain": [
       "<Figure size 864x576 with 1 Axes>"
      ]
     },
     "metadata": {
      "needs_background": "light"
     },
     "output_type": "display_data"
    }
   ],
   "source": [
    "ax = sewa_crosstab_b[['Crib','Toy','Activity']].plot(figsize=(12,8))\n",
    "ax.grid(which='both',axis='x')\n",
    "plt.xticks(np.arange(1,13), calendar.month_name[1:13], rotation=20)\n",
    "plt.title('Jumlah barang disewa');\n"
   ]
  },
  {
   "cell_type": "code",
   "execution_count": 85,
   "metadata": {
    "ExecuteTime": {
     "end_time": "2020-04-05T19:43:57.664021Z",
     "start_time": "2020-04-05T19:43:57.448438Z"
    },
    "scrolled": true
   },
   "outputs": [
    {
     "data": {
      "image/png": "[encoded data removed]",
      "text/plain": [
       "<Figure size 864x576 with 1 Axes>"
      ]
     },
     "metadata": {
      "needs_background": "light"
     },
     "output_type": "display_data"
    }
   ],
   "source": [
    "sewa_crosstab_b_durasi = pd.crosstab(sewa.Bulan, sewa.Item_Category, values=sewa['Durasi_(hari)'], aggfunc='mean')\n",
    "\n",
    "ax = sewa_crosstab_b_durasi[['Stroller','Carrier','Car_Seat']].plot(figsize=(12,8))\n",
    "ax.grid(which='both',axis='x')\n",
    "plt.xticks(np.arange(1,13), calendar.month_name[1:13], rotation=20)\n",
    "plt.ylabel('Rerata Durasi Penyewaan')\n",
    "plt.title('Durasi Sewa Barang');"
   ]
  },
  {
   "cell_type": "code",
   "execution_count": 183,
   "metadata": {
    "ExecuteTime": {
     "end_time": "2020-04-04T21:56:00.470920Z",
     "start_time": "2020-04-04T21:55:59.842802Z"
    }
   },
   "outputs": [
    {
     "data": {
      "image/png": "[encoded data removed]",
      "text/plain": [
       "<Figure size 432x288 with 1 Axes>"
      ]
     },
     "metadata": {
      "needs_background": "light"
     },
     "output_type": "display_data"
    }
   ],
   "source": [
    "ax = sewa_crosstab.plot(kind='bar',stacked=True)\n",
    "ax.set_xticklabels(list_bulan_tahun)\n",
    "plt.legend(bbox_to_anchor=(1,1));"
   ]
  },
  {
   "cell_type": "markdown",
   "metadata": {},
   "source": [
    "## Strollers"
   ]
  },
  {
   "cell_type": "code",
   "execution_count": 90,
   "metadata": {
    "ExecuteTime": {
     "end_time": "2020-04-05T19:51:48.066757Z",
     "start_time": "2020-04-05T19:51:48.059039Z"
    }
   },
   "outputs": [],
   "source": [
    "sewa_stroller = sewa_fokus.loc[(data.Item_Category == 'Stroller') & (data['Durasi_(hari)']>0)]"
   ]
  },
  {
   "cell_type": "code",
   "execution_count": 91,
   "metadata": {
    "ExecuteTime": {
     "end_time": "2020-04-05T19:51:51.268887Z",
     "start_time": "2020-04-05T19:51:51.263481Z"
    }
   },
   "outputs": [
    {
     "data": {
      "text/plain": [
       "2018.0    947\n",
       "2019.0    945\n",
       "Name: Tahun, dtype: int64"
      ]
     },
     "execution_count": 91,
     "metadata": {},
     "output_type": "execute_result"
    }
   ],
   "source": [
    "sewa_stroller.Tahun.value_counts()"
   ]
  },
  {
   "cell_type": "code",
   "execution_count": 92,
   "metadata": {
    "ExecuteTime": {
     "end_time": "2020-04-05T19:51:57.654701Z",
     "start_time": "2020-04-05T19:51:57.367592Z"
    },
    "scrolled": true
   },
   "outputs": [
    {
     "data": {
      "image/png": "[encoded data removed]",
      "text/plain": [
       "<Figure size 432x288 with 2 Axes>"
      ]
     },
     "metadata": {
      "needs_background": "light"
     },
     "output_type": "display_data"
    }
   ],
   "source": [
    "sewa_stroller.hist(column='Durasi_(hari)', by='Tahun', bins=30, sharex=True, sharey=True);"
   ]
  },
  {
   "cell_type": "code",
   "execution_count": 93,
   "metadata": {
    "ExecuteTime": {
     "end_time": "2020-04-05T19:52:02.458521Z",
     "start_time": "2020-04-05T19:52:02.004571Z"
    }
   },
   "outputs": [
    {
     "data": {
      "image/png": "[encoded data removed]",
      "text/plain": [
       "<Figure size 432x288 with 2 Axes>"
      ]
     },
     "metadata": {
      "needs_background": "light"
     },
     "output_type": "display_data"
    }
   ],
   "source": [
    "sewa_stroller.hist(column='Sewa_per_hari', by='Tahun', bins=100, sharex=True, sharey=True);"
   ]
  },
  {
   "cell_type": "code",
   "execution_count": 100,
   "metadata": {
    "ExecuteTime": {
     "end_time": "2020-04-05T19:54:27.241473Z",
     "start_time": "2020-04-05T19:54:27.069632Z"
    },
    "scrolled": true
   },
   "outputs": [
    {
     "data": {
      "image/png": "[encoded data removed]",
      "text/plain": [
       "<Figure size 432x288 with 1 Axes>"
      ]
     },
     "metadata": {
      "needs_background": "light"
     },
     "output_type": "display_data"
    }
   ],
   "source": [
    "sewa_stroller.groupby(\"Bulan_Tahun\")['Nomor'].count().plot();\n"
   ]
  },
  {
   "cell_type": "code",
   "execution_count": 98,
   "metadata": {
    "ExecuteTime": {
     "end_time": "2020-04-05T19:53:29.971328Z",
     "start_time": "2020-04-05T19:53:29.770406Z"
    },
    "scrolled": true
   },
   "outputs": [
    {
     "data": {
      "image/png": "[encoded data removed]",
      "text/plain": [
       "<Figure size 432x288 with 1 Axes>"
      ]
     },
     "metadata": {
      "needs_background": "light"
     },
     "output_type": "display_data"
    }
   ],
   "source": [
    "sewa_stroller.groupby(\"Bulan_Tahun\")['Harga'].sum().plot(kind='bar');"
   ]
  },
  {
   "cell_type": "code",
   "execution_count": 111,
   "metadata": {
    "ExecuteTime": {
     "end_time": "2020-04-05T20:42:37.710390Z",
     "start_time": "2020-04-05T20:42:37.503002Z"
    }
   },
   "outputs": [
    {
     "data": {
      "image/png": "[encoded data removed]",
      "text/plain": [
       "<Figure size 432x288 with 1 Axes>"
      ]
     },
     "metadata": {
      "needs_background": "light"
     },
     "output_type": "display_data"
    }
   ],
   "source": [
    "sewa_stroller.groupby(\"Bulan_Tahun\")['Durasi_(hari)'].mean().plot(kind='bar');"
   ]
  },
  {
   "cell_type": "code",
   "execution_count": 269,
   "metadata": {
    "ExecuteTime": {
     "end_time": "2020-04-05T16:51:27.589151Z",
     "start_time": "2020-04-05T16:51:27.430596Z"
    },
    "scrolled": false
   },
   "outputs": [
    {
     "data": {
      "image/png": "[encoded data removed]",
      "text/plain": [
       "<Figure size 432x288 with 1 Axes>"
      ]
     },
     "metadata": {
      "needs_background": "light"
     },
     "output_type": "display_data"
    }
   ],
   "source": [
    "sewa_stroller.boxplot(column='Sewa_per_hari', by='Tahun');"
   ]
  },
  {
   "cell_type": "code",
   "execution_count": 268,
   "metadata": {
    "ExecuteTime": {
     "end_time": "2020-04-05T16:51:24.587445Z",
     "start_time": "2020-04-05T16:51:24.419445Z"
    }
   },
   "outputs": [
    {
     "data": {
      "image/png": "[encoded data removed]",
      "text/plain": [
       "<Figure size 432x288 with 1 Axes>"
      ]
     },
     "metadata": {
      "needs_background": "light"
     },
     "output_type": "display_data"
    }
   ],
   "source": [
    "sewa_stroller.boxplot(column='Durasi_(hari)', by='Tahun');"
   ]
  },
  {
   "cell_type": "code",
   "execution_count": 112,
   "metadata": {
    "ExecuteTime": {
     "end_time": "2020-04-05T20:43:09.238730Z",
     "start_time": "2020-04-05T20:43:09.228157Z"
    }
   },
   "outputs": [
    {
     "data": {
      "text/html": [
       "<div>\n",
       "<style scoped>\n",
       "    .dataframe tbody tr th:only-of-type {\n",
       "        vertical-align: middle;\n",
       "    }\n",
       "\n",
       "    .dataframe tbody tr th {\n",
       "        vertical-align: top;\n",
       "    }\n",
       "\n",
       "    .dataframe thead th {\n",
       "        text-align: right;\n",
       "    }\n",
       "</style>\n",
       "<table border=\"1\" class=\"dataframe\">\n",
       "  <thead>\n",
       "    <tr style=\"text-align: right;\">\n",
       "      <th></th>\n",
       "      <th>Harga</th>\n",
       "      <th>Durasi_(hari)</th>\n",
       "      <th>Sewa_per_hari</th>\n",
       "      <th>Bulan</th>\n",
       "    </tr>\n",
       "    <tr>\n",
       "      <th>Tahun</th>\n",
       "      <th></th>\n",
       "      <th></th>\n",
       "      <th></th>\n",
       "      <th></th>\n",
       "    </tr>\n",
       "  </thead>\n",
       "  <tbody>\n",
       "    <tr>\n",
       "      <td>2018.0</td>\n",
       "      <td>339000.0</td>\n",
       "      <td>14.0</td>\n",
       "      <td>25571.428571</td>\n",
       "      <td>6.0</td>\n",
       "    </tr>\n",
       "    <tr>\n",
       "      <td>2019.0</td>\n",
       "      <td>369000.0</td>\n",
       "      <td>14.0</td>\n",
       "      <td>27785.714286</td>\n",
       "      <td>6.0</td>\n",
       "    </tr>\n",
       "  </tbody>\n",
       "</table>\n",
       "</div>"
      ],
      "text/plain": [
       "           Harga  Durasi_(hari)  Sewa_per_hari  Bulan\n",
       "Tahun                                                \n",
       "2018.0  339000.0           14.0   25571.428571    6.0\n",
       "2019.0  369000.0           14.0   27785.714286    6.0"
      ]
     },
     "execution_count": 112,
     "metadata": {},
     "output_type": "execute_result"
    }
   ],
   "source": [
    "sewa_stroller.groupby('Tahun').median()"
   ]
  },
  {
   "cell_type": "code",
   "execution_count": 196,
   "metadata": {
    "ExecuteTime": {
     "end_time": "2020-04-04T22:19:12.603610Z",
     "start_time": "2020-04-04T22:19:12.595893Z"
    }
   },
   "outputs": [
    {
     "data": {
      "text/plain": [
       "Babyzen - Yoyo+ 6+          0.149425\n",
       "Keenz - Air Plus            0.109718\n",
       "Cocolatte - Pockit CL788    0.087774\n",
       "Cocolatte - Pockit 2        0.085684\n",
       "Einhill - Armadillo 2       0.077325\n",
       "Babyzen - Yoyo 6+           0.051202\n",
       "Joie - Evalite Duo          0.049112\n",
       "Babyzen - Yoyo+ 0+          0.042842\n",
       "Baby Jogger - City Tour     0.040752\n",
       "Nuna - Mixx                 0.026123\n",
       "Name: Sewa_Item, dtype: float64"
      ]
     },
     "execution_count": 196,
     "metadata": {},
     "output_type": "execute_result"
    }
   ],
   "source": [
    "sewa_stroller.loc[sewa_stroller.Tahun==2019]['Sewa_Item'].value_counts(normalize=True)[:10]"
   ]
  },
  {
   "cell_type": "code",
   "execution_count": 197,
   "metadata": {
    "ExecuteTime": {
     "end_time": "2020-04-04T22:19:18.144480Z",
     "start_time": "2020-04-04T22:19:18.136260Z"
    }
   },
   "outputs": [
    {
     "data": {
      "text/plain": [
       "Babyzen - Yoyo+ 6+                  0.130577\n",
       "Cocolatte - Pockit CL788            0.121872\n",
       "Cocolatte - Pockit 2                0.083787\n",
       "Einhill - Armadillo 2               0.071817\n",
       "Joie - Evalite Duo                  0.050054\n",
       "Babyzen - Yoyo 6+                   0.046790\n",
       "Babystyle - Hybrid Cabi Stroller    0.039173\n",
       "Babyzen - Yoyo+ 0+                  0.038085\n",
       "Baby Jogger - City Tour             0.033732\n",
       "Nuna - Mixx                         0.021763\n",
       "Name: Sewa_Item, dtype: float64"
      ]
     },
     "execution_count": 197,
     "metadata": {},
     "output_type": "execute_result"
    }
   ],
   "source": [
    "sewa_stroller.loc[sewa_stroller.Tahun==2018]['Sewa_Item'].value_counts(normalize=True)[:10]"
   ]
  },
  {
   "cell_type": "code",
   "execution_count": null,
   "metadata": {},
   "outputs": [],
   "source": []
  }
 ],
 "metadata": {
  "kernelspec": {
   "display_name": "Python 3",
   "language": "python",
   "name": "python3"
  },
  "language_info": {
   "codemirror_mode": {
    "name": "ipython",
    "version": 3
   },
   "file_extension": ".py",
   "mimetype": "text/x-python",
   "name": "python",
   "nbconvert_exporter": "python",
   "pygments_lexer": "ipython3",
   "version": "3.7.4"
  },
  "toc": {
   "base_numbering": 1,
   "nav_menu": {},
   "number_sections": true,
   "sideBar": true,
   "skip_h1_title": false,
   "title_cell": "Table of Contents",
   "title_sidebar": "Contents",
   "toc_cell": false,
   "toc_position": {},
   "toc_section_display": true,
   "toc_window_display": false
  }
 },
 "nbformat": 4,
 "nbformat_minor": 2
}
