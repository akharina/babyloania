{
 "cells": [
  {
   "cell_type": "markdown",
   "metadata": {},
   "source": [
    "# Babyloania Transaction Data "
   ]
  },
  {
   "cell_type": "code",
   "execution_count": 20,
   "metadata": {
    "ExecuteTime": {
     "end_time": "2020-01-24T16:57:00.222952Z",
     "start_time": "2020-01-24T16:57:00.210215Z"
    }
   },
   "outputs": [],
   "source": [
    "import os\n",
    "import pandas as pd\n",
    "import numpy as np\n",
    "import matplotlib as plt\n",
    "import seaborn as sns\n",
    "\n",
    "\n",
    "%matplotlib inline"
   ]
  },
  {
   "cell_type": "code",
   "execution_count": 72,
   "metadata": {
    "ExecuteTime": {
     "end_time": "2020-01-25T17:59:10.803423Z",
     "start_time": "2020-01-25T17:59:09.643565Z"
    },
    "scrolled": true
   },
   "outputs": [],
   "source": [
    "raw_2017 = pd.read_excel(\"../data/pesanan_dibuat_1-Jan-2017_sampai_31-Dec-2017.xlsx\", parse_dates=['Tanggal Pesanan','Mulai Sewa','Selesai Sewa'])\n",
    "# converters={['Tanggal_Pesanan','Mulai_Sewa','Selesai_Sewa']: pd.to_datetime}\n",
    "data_2017 = raw_2017.drop(columns=['Nomor', 'Nama Pelanggan', 'Alamat Pelanggan (ulangi)','Telepon', 'Alamat Kirim', 'Email', 'Lunas',\n",
    "       'Total Biaya', 'Jumlah Dibayar', 'Catatan','Varian',\n",
    "       'Warna', 'Status'])\n",
    "data_2017 = data_2017.rename(lambda x: x.replace(' ', '_'), axis=1) #Removing spaces in column names\n",
    "data_2017 = data_2017.rename(columns={'Nomor(ulang)': 'Nomor',\n",
    "                                      'Nama_Pelanggan_(ulangi)': 'Nama_Pelanggan',\n",
    "                                      'Pemilik_Unit,_Skema_Bagi_Hasil': 'Pemilik_Unit', \n",
    "                                      'Unnamed:_23': 'Skema_Bagi_Hasil'})\n",
    "\n"
   ]
  },
  {
   "cell_type": "code",
   "execution_count": 61,
   "metadata": {
    "ExecuteTime": {
     "end_time": "2020-01-24T21:17:28.156910Z",
     "start_time": "2020-01-24T21:17:28.143178Z"
    }
   },
   "outputs": [
    {
     "name": "stdout",
     "output_type": "stream",
     "text": [
      "<class 'pandas.core.frame.DataFrame'>\n",
      "RangeIndex: 7642 entries, 0 to 7641\n",
      "Data columns (total 24 columns):\n",
      "Nomor                             3237 non-null object\n",
      "Nama Pelanggan                    3237 non-null object\n",
      "Telepon                           3237 non-null object\n",
      "Alamat Kirim                      3237 non-null object\n",
      "Email                             3232 non-null object\n",
      "Lunas                             3237 non-null object\n",
      "Total Biaya                       3237 non-null float64\n",
      "Jumlah Dibayar                    3237 non-null float64\n",
      "Catatan                           983 non-null object\n",
      "Tanggal Pesanan                   7630 non-null datetime64[ns]\n",
      "Nomor(ulang)                      7630 non-null object\n",
      "Komponen Biaya                    7630 non-null object\n",
      "Harga                             7630 non-null float64\n",
      "Kode Unit                         4063 non-null object\n",
      "Varian                            280 non-null object\n",
      "Warna                             2338 non-null object\n",
      "Mulai Sewa                        4063 non-null datetime64[ns]\n",
      "Selesai Sewa                      4063 non-null datetime64[ns]\n",
      "Durasi (hari)                     4063 non-null float64\n",
      "Status                            4063 non-null object\n",
      "Nama Pelanggan (ulangi)           4063 non-null object\n",
      "Alamat Pelanggan (ulangi)         4063 non-null object\n",
      "Pemilik Unit, Skema Bagi Hasil    4063 non-null object\n",
      "Unnamed: 23                       4027 non-null object\n",
      "dtypes: datetime64[ns](3), float64(4), object(17)\n",
      "memory usage: 1.4+ MB\n"
     ]
    }
   ],
   "source": [
    "raw_2017.info()"
   ]
  },
  {
   "cell_type": "code",
   "execution_count": 74,
   "metadata": {
    "ExecuteTime": {
     "end_time": "2020-01-25T17:59:27.315296Z",
     "start_time": "2020-01-25T17:59:23.277266Z"
    }
   },
   "outputs": [],
   "source": [
    "raw_2018 = pd.read_excel(\"../data/pesanan_dibuat_1-Jan-2018_sampai_31-Jan-2020.xlsx\", parse_dates=['Tanggal Pesanan','Mulai Sewa','Selesai Sewa'])\n",
    "data_2018 = raw_2018.drop(columns=['Nomor', 'Nama Pelanggan', 'Alamat Pelanggan (ulangi)','Telepon', 'Alamat Kirim', 'Email', 'Lunas',\n",
    "       'Total Biaya', 'Jumlah Dibayar', 'Catatan','Varian',\n",
    "       'Warna', 'Status'])\n",
    "data_2018 = data_2018.rename(lambda x: x.replace(' ', '_'), axis=1) #Removing spaces in column names\n",
    "data_2018 = data_2018.rename(columns={'Nomor(ulang)': 'Nomor',\n",
    "                                      'Nama_Pelanggan_(ulangi)': 'Nama_Pelanggan',\n",
    "                                      'Pemilik_Unit,_Skema_Bagi_Hasil': 'Pemilik_Unit', \n",
    "                                      'Unnamed:_23': 'Skema_Bagi_Hasil'})\n"
   ]
  },
  {
   "cell_type": "code",
   "execution_count": 78,
   "metadata": {
    "ExecuteTime": {
     "end_time": "2020-01-25T18:04:41.106915Z",
     "start_time": "2020-01-25T18:04:40.967422Z"
    },
    "scrolled": true
   },
   "outputs": [
    {
     "name": "stdout",
     "output_type": "stream",
     "text": [
      "Transaksi pertama: 2017-05-12 00:00:00\n",
      "Transaksi terakhir: 2020-01-24 00:00:00\n",
      "Jumlah transaksi: 14949\n",
      "Jumlah unit disewakan: 2134\n"
     ]
    }
   ],
   "source": [
    "#Combine data from 2 datasets\n",
    "data = pd.concat([data_2017,data_2018])\n",
    "\n",
    "print(f\"Transaksi pertama: {min(data.Tanggal_Pesanan)}\")\n",
    "print(f\"Transaksi terakhir: {max(data.Tanggal_Pesanan)}\")\n",
    "print(f\"Jumlah transaksi: {len(data.Nomor.unique())}\")\n",
    "print(f\"Jumlah unit disewakan: {len(data.Kode_Unit.unique())}\")"
   ]
  },
  {
   "cell_type": "code",
   "execution_count": 64,
   "metadata": {
    "ExecuteTime": {
     "end_time": "2020-01-24T21:18:02.783405Z",
     "start_time": "2020-01-24T21:18:02.744328Z"
    },
    "scrolled": true
   },
   "outputs": [
    {
     "name": "stdout",
     "output_type": "stream",
     "text": [
      "<class 'pandas.core.frame.DataFrame'>\n",
      "Int64Index: 34855 entries, 0 to 27212\n",
      "Data columns (total 12 columns):\n",
      "Tanggal_Pesanan     34822 non-null datetime64[ns]\n",
      "Nomor               34822 non-null object\n",
      "Komponen_Biaya      34822 non-null object\n",
      "Harga               34822 non-null float64\n",
      "Kode_Unit           18062 non-null object\n",
      "Mulai_Sewa          18062 non-null datetime64[ns]\n",
      "Selesai_Sewa        18062 non-null datetime64[ns]\n",
      "Durasi_(hari)       18062 non-null float64\n",
      "Nama_Pelanggan      18062 non-null object\n",
      "Alamat_Pelanggan    18062 non-null object\n",
      "Pemilik_Unit        18058 non-null object\n",
      "Skema_Bagi_Hasil    18019 non-null object\n",
      "dtypes: datetime64[ns](3), float64(2), object(7)\n",
      "memory usage: 3.5+ MB\n"
     ]
    }
   ],
   "source": [
    "data.info()"
   ]
  },
  {
   "cell_type": "code",
   "execution_count": 52,
   "metadata": {
    "ExecuteTime": {
     "end_time": "2020-01-24T21:06:00.686696Z",
     "start_time": "2020-01-24T21:06:00.676905Z"
    },
    "scrolled": true
   },
   "outputs": [
    {
     "data": {
      "text/plain": [
       "HDII342                        39\n",
       "FLA1                           34\n",
       "HDII18                         33\n",
       "UT30                           33\n",
       "DN31                           32\n",
       "                               ..\n",
       "GIN3                            1\n",
       "TK1                             1\n",
       "COCOLATTET80AN-DKARTGX-1904     1\n",
       "MGP2                            1\n",
       "HDII435                         1\n",
       "Name: Kode_Unit, Length: 2133, dtype: int64"
      ]
     },
     "execution_count": 52,
     "metadata": {},
     "output_type": "execute_result"
    }
   ],
   "source": [
    "data.Kode_Unit.value_counts()"
   ]
  },
  {
   "cell_type": "code",
   "execution_count": null,
   "metadata": {},
   "outputs": [],
   "source": []
  }
 ],
 "metadata": {
  "kernelspec": {
   "display_name": "Python 3",
   "language": "python",
   "name": "python3"
  },
  "language_info": {
   "codemirror_mode": {
    "name": "ipython",
    "version": 3
   },
   "file_extension": ".py",
   "mimetype": "text/x-python",
   "name": "python",
   "nbconvert_exporter": "python",
   "pygments_lexer": "ipython3",
   "version": "3.7.5"
  },
  "toc": {
   "base_numbering": 1,
   "nav_menu": {},
   "number_sections": true,
   "sideBar": true,
   "skip_h1_title": false,
   "title_cell": "Table of Contents",
   "title_sidebar": "Contents",
   "toc_cell": false,
   "toc_position": {},
   "toc_section_display": true,
   "toc_window_display": false
  }
 },
 "nbformat": 4,
 "nbformat_minor": 2
}
